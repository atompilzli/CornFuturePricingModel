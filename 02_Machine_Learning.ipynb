{
 "cells": [
  {
   "cell_type": "markdown",
   "metadata": {},
   "source": [
    "# Prediction of U.S. Corn Future Prices using Machine Learning - Machine Learning"
   ]
  },
  {
   "cell_type": "markdown",
   "metadata": {},
   "source": [
    "Tables of Contents:\n",
    "1. Autocorrelation & Stationarity <br>\n",
    "    1.1 Check for Autocorrelation & Stationarity <br>\n",
    "    1.2 Differencing <br>\n",
    "2. Machine Learning <br>\n",
    "    2.1 Benchmark / SARIMA<br>\n",
    "    2.2 Linear Regression <br>\n",
    "    2.3 Support Vector Regressor (SVR) <br>\n",
    "    2.4 Random Forest <br> \n",
    "    2.5 Long Short Term Memory (LSTM) <br>\n",
    "3. Comparison <br>\n",
    "4. Feature Selection <br>\n",
    "    4.1 Optimal Lag Days <br>\n",
    "    4.2 Feature Importance <br>"
   ]
  },
  {
   "cell_type": "code",
   "execution_count": 9,
   "metadata": {},
   "outputs": [],
   "source": [
    "# # PACKAGE INSTALLATION:\n",
    "# import sys\n",
    "\n",
    "# !{sys.executable} -m pip install tensorflow\n",
    "# !{sys.executable} -m pip install keras\n",
    "# !{sys.executable} -m pip install statsmodels\n",
    "# !{sys.executable} -m pip install scikit-learn\n",
    "# !{sys.executable} -m pip install pandas\n",
    "# !{sys.executable} -m pip install matplotlib\n",
    "# !{sys.executable} -m pip install xlrd"
   ]
  },
  {
   "cell_type": "code",
   "execution_count": 10,
   "metadata": {},
   "outputs": [],
   "source": [
    "# Reproducible Results\n",
    "from numpy.random import seed\n",
    "seed(1)\n",
    "import tensorflow as tf\n",
    "tf.random.set_seed(2)\n",
    "\n",
    "# Importing basic packages\n",
    "import numpy as np\n",
    "import matplotlib.pyplot as plt\n",
    "from matplotlib import style, rcParams\n",
    "import pandas as pd\n",
    "from statsmodels.tsa.seasonal import seasonal_decompose\n",
    "from statsmodels.tsa.stattools import adfuller\n",
    "from statsmodels.graphics.tsaplots import plot_acf\n",
    "import warnings\n",
    "import time\n",
    "import os\n",
    "from random import random\n",
    "from platform import python_version\n",
    "\n",
    "# Importing packages for machine learning\n",
    "import sklearn\n",
    "from sklearn.metrics import mean_squared_error, r2_score, mean_absolute_error\n",
    "from sklearn.preprocessing import MinMaxScaler\n",
    "from sklearn.ensemble import RandomForestRegressor\n",
    "from sklearn.pipeline import Pipeline\n",
    "from sklearn.model_selection import GridSearchCV, KFold\n",
    "from sklearn.svm import SVR\n",
    "from sklearn.linear_model import LinearRegression\n",
    "import keras\n",
    "from keras import optimizers\n",
    "from keras.models import Sequential\n",
    "from keras.layers import Dense, LSTM, Dropout\n",
    "from math import sqrt\n",
    "from statsmodels.tsa.statespace.sarimax import SARIMAX\n",
    "import statsmodels.api as sm\n",
    "\n",
    "# Importing self-written module\n",
    "%run AA_Functions.ipynb"
   ]
  },
  {
   "cell_type": "code",
   "execution_count": 11,
   "metadata": {},
   "outputs": [
    {
     "name": "stdout",
     "output_type": "stream",
     "text": [
      "Python Version 3.7.6      | Latest Version 3.8.2 (February 2020)\n",
      "TensorFlow Version 2.1.0  | Latest Version 2.1.0 (January 2020)\n",
      "Keras Version 2.3.1       | Latest Version 2.3.1 (October 2019)\n",
      "Current Directory: C:\\Users\\nickb\\Dropbox\\Bachelorarbeit\\Bischofberger_Nick_BA\\Code\n"
     ]
    }
   ],
   "source": [
    "# Check for up-to-date versions and correct directory\n",
    "print(\"Python Version\", python_version(), '     | Latest Version 3.8.2 (February 2020)')\n",
    "print(\"TensorFlow Version\", tf.__version__, ' | Latest Version 2.1.0 (January 2020)')\n",
    "print(\"Keras Version\", keras.__version__, '      | Latest Version 2.3.1 (October 2019)')\n",
    "print('Current Directory:', os.getcwd()) # all data and code should be in this directory\n",
    "warnings.filterwarnings(\"ignore\") # suppress all warnings, can be commented out\n",
    "style.use('seaborn-whitegrid') # set plot style\n",
    "rcParams.update({'font.size': 10}) # set plot font size globally"
   ]
  },
  {
   "cell_type": "markdown",
   "metadata": {},
   "source": [
    "Runtimes for training the algorithms were measured with an Intel Core i7-8565U CPU (single core performance)."
   ]
  },
  {
   "cell_type": "markdown",
   "metadata": {},
   "source": [
    "## 1. Autocorrelation & Stationarity "
   ]
  },
  {
   "cell_type": "code",
   "execution_count": 12,
   "metadata": {
    "scrolled": true
   },
   "outputs": [
    {
     "data": {
      "text/html": [
       "<div>\n",
       "<style scoped>\n",
       "    .dataframe tbody tr th:only-of-type {\n",
       "        vertical-align: middle;\n",
       "    }\n",
       "\n",
       "    .dataframe tbody tr th {\n",
       "        vertical-align: top;\n",
       "    }\n",
       "\n",
       "    .dataframe thead th {\n",
       "        text-align: right;\n",
       "    }\n",
       "</style>\n",
       "<table border=\"1\" class=\"dataframe\">\n",
       "  <thead>\n",
       "    <tr style=\"text-align: right;\">\n",
       "      <th></th>\n",
       "      <th>Price</th>\n",
       "      <th>Yield18</th>\n",
       "      <th>Yield7</th>\n",
       "      <th>AGB18</th>\n",
       "      <th>AGB7</th>\n",
       "      <th>NDVI18</th>\n",
       "      <th>precipitation18</th>\n",
       "      <th>tmax18</th>\n",
       "      <th>tmin18</th>\n",
       "    </tr>\n",
       "    <tr>\n",
       "      <th>Date</th>\n",
       "      <th></th>\n",
       "      <th></th>\n",
       "      <th></th>\n",
       "      <th></th>\n",
       "      <th></th>\n",
       "      <th></th>\n",
       "      <th></th>\n",
       "      <th></th>\n",
       "      <th></th>\n",
       "    </tr>\n",
       "  </thead>\n",
       "  <tbody>\n",
       "    <tr>\n",
       "      <th>2001-01-30</th>\n",
       "      <td>209.25</td>\n",
       "      <td>7.260893</td>\n",
       "      <td>7.417578</td>\n",
       "      <td>15.18194</td>\n",
       "      <td>15.83152</td>\n",
       "      <td>0.356333</td>\n",
       "      <td>1.922475</td>\n",
       "      <td>0.998079</td>\n",
       "      <td>-8.752397</td>\n",
       "    </tr>\n",
       "    <tr>\n",
       "      <th>2001-01-31</th>\n",
       "      <td>209.00</td>\n",
       "      <td>7.260893</td>\n",
       "      <td>7.417578</td>\n",
       "      <td>15.18194</td>\n",
       "      <td>15.83152</td>\n",
       "      <td>0.355667</td>\n",
       "      <td>2.113111</td>\n",
       "      <td>0.769787</td>\n",
       "      <td>-9.093101</td>\n",
       "    </tr>\n",
       "    <tr>\n",
       "      <th>2001-02-01</th>\n",
       "      <td>211.00</td>\n",
       "      <td>7.260893</td>\n",
       "      <td>7.417578</td>\n",
       "      <td>15.18194</td>\n",
       "      <td>15.83152</td>\n",
       "      <td>0.355000</td>\n",
       "      <td>2.081987</td>\n",
       "      <td>0.499550</td>\n",
       "      <td>-9.434367</td>\n",
       "    </tr>\n",
       "    <tr>\n",
       "      <th>2001-02-02</th>\n",
       "      <td>213.00</td>\n",
       "      <td>7.260893</td>\n",
       "      <td>7.417578</td>\n",
       "      <td>15.18194</td>\n",
       "      <td>15.83152</td>\n",
       "      <td>0.354200</td>\n",
       "      <td>2.075079</td>\n",
       "      <td>0.391470</td>\n",
       "      <td>-9.658767</td>\n",
       "    </tr>\n",
       "    <tr>\n",
       "      <th>2001-02-05</th>\n",
       "      <td>212.00</td>\n",
       "      <td>7.260893</td>\n",
       "      <td>7.417578</td>\n",
       "      <td>15.18194</td>\n",
       "      <td>15.83152</td>\n",
       "      <td>0.351800</td>\n",
       "      <td>2.127651</td>\n",
       "      <td>0.360266</td>\n",
       "      <td>-9.979603</td>\n",
       "    </tr>\n",
       "    <tr>\n",
       "      <th>...</th>\n",
       "      <td>...</td>\n",
       "      <td>...</td>\n",
       "      <td>...</td>\n",
       "      <td>...</td>\n",
       "      <td>...</td>\n",
       "      <td>...</td>\n",
       "      <td>...</td>\n",
       "      <td>...</td>\n",
       "      <td>...</td>\n",
       "    </tr>\n",
       "    <tr>\n",
       "      <th>2018-12-11</th>\n",
       "      <td>375.00</td>\n",
       "      <td>7.667130</td>\n",
       "      <td>6.798717</td>\n",
       "      <td>15.92238</td>\n",
       "      <td>14.89940</td>\n",
       "      <td>0.411033</td>\n",
       "      <td>1.830614</td>\n",
       "      <td>4.026244</td>\n",
       "      <td>-4.999000</td>\n",
       "    </tr>\n",
       "    <tr>\n",
       "      <th>2018-12-12</th>\n",
       "      <td>376.25</td>\n",
       "      <td>7.667130</td>\n",
       "      <td>6.798717</td>\n",
       "      <td>15.92238</td>\n",
       "      <td>14.89940</td>\n",
       "      <td>0.409600</td>\n",
       "      <td>1.846929</td>\n",
       "      <td>3.863437</td>\n",
       "      <td>-5.018503</td>\n",
       "    </tr>\n",
       "    <tr>\n",
       "      <th>2018-12-13</th>\n",
       "      <td>375.50</td>\n",
       "      <td>7.667130</td>\n",
       "      <td>6.798717</td>\n",
       "      <td>15.92238</td>\n",
       "      <td>14.89940</td>\n",
       "      <td>0.408167</td>\n",
       "      <td>1.847935</td>\n",
       "      <td>3.641480</td>\n",
       "      <td>-5.123002</td>\n",
       "    </tr>\n",
       "    <tr>\n",
       "      <th>2018-12-14</th>\n",
       "      <td>376.75</td>\n",
       "      <td>7.667130</td>\n",
       "      <td>6.798717</td>\n",
       "      <td>15.92238</td>\n",
       "      <td>14.89940</td>\n",
       "      <td>0.406733</td>\n",
       "      <td>1.711957</td>\n",
       "      <td>3.428918</td>\n",
       "      <td>-5.350722</td>\n",
       "    </tr>\n",
       "    <tr>\n",
       "      <th>2018-12-17</th>\n",
       "      <td>384.00</td>\n",
       "      <td>7.667130</td>\n",
       "      <td>6.798717</td>\n",
       "      <td>15.92238</td>\n",
       "      <td>14.89940</td>\n",
       "      <td>0.402967</td>\n",
       "      <td>2.003546</td>\n",
       "      <td>3.700807</td>\n",
       "      <td>-5.147070</td>\n",
       "    </tr>\n",
       "  </tbody>\n",
       "</table>\n",
       "<p>4503 rows × 9 columns</p>\n",
       "</div>"
      ],
      "text/plain": [
       "             Price   Yield18    Yield7     AGB18      AGB7    NDVI18  \\\n",
       "Date                                                                   \n",
       "2001-01-30  209.25  7.260893  7.417578  15.18194  15.83152  0.356333   \n",
       "2001-01-31  209.00  7.260893  7.417578  15.18194  15.83152  0.355667   \n",
       "2001-02-01  211.00  7.260893  7.417578  15.18194  15.83152  0.355000   \n",
       "2001-02-02  213.00  7.260893  7.417578  15.18194  15.83152  0.354200   \n",
       "2001-02-05  212.00  7.260893  7.417578  15.18194  15.83152  0.351800   \n",
       "...            ...       ...       ...       ...       ...       ...   \n",
       "2018-12-11  375.00  7.667130  6.798717  15.92238  14.89940  0.411033   \n",
       "2018-12-12  376.25  7.667130  6.798717  15.92238  14.89940  0.409600   \n",
       "2018-12-13  375.50  7.667130  6.798717  15.92238  14.89940  0.408167   \n",
       "2018-12-14  376.75  7.667130  6.798717  15.92238  14.89940  0.406733   \n",
       "2018-12-17  384.00  7.667130  6.798717  15.92238  14.89940  0.402967   \n",
       "\n",
       "            precipitation18    tmax18    tmin18  \n",
       "Date                                             \n",
       "2001-01-30         1.922475  0.998079 -8.752397  \n",
       "2001-01-31         2.113111  0.769787 -9.093101  \n",
       "2001-02-01         2.081987  0.499550 -9.434367  \n",
       "2001-02-02         2.075079  0.391470 -9.658767  \n",
       "2001-02-05         2.127651  0.360266 -9.979603  \n",
       "...                     ...       ...       ...  \n",
       "2018-12-11         1.830614  4.026244 -4.999000  \n",
       "2018-12-12         1.846929  3.863437 -5.018503  \n",
       "2018-12-13         1.847935  3.641480 -5.123002  \n",
       "2018-12-14         1.711957  3.428918 -5.350722  \n",
       "2018-12-17         2.003546  3.700807 -5.147070  \n",
       "\n",
       "[4503 rows x 9 columns]"
      ]
     },
     "execution_count": 12,
     "metadata": {},
     "output_type": "execute_result"
    }
   ],
   "source": [
    "# Read data that has been preprocessed in '01_Preprocessing.ipynb'\n",
    "df_final = pd.read_csv('Data/Preprocessed_Data/AC_Combined_Model_2001_2018.csv', index_col=0)\n",
    "df_final"
   ]
  },
  {
   "cell_type": "markdown",
   "metadata": {},
   "source": [
    "### 1.1 Check for Autocorrelation and Stationarity"
   ]
  },
  {
   "cell_type": "code",
   "execution_count": 13,
   "metadata": {
    "scrolled": true
   },
   "outputs": [
    {
     "data": {
      "image/png": "[encoded data removed]",
      "text/plain": [
       "<Figure size 432x288 with 1 Axes>"
      ]
     },
     "metadata": {},
     "output_type": "display_data"
    }
   ],
   "source": [
    "# Get corn price data\n",
    "df_final.sort_index(inplace=True)\n",
    "price = df_final['Price'].values\n",
    "# Create autocorrelation plot for upto 50 lag days\n",
    "auto_corr = plot_acf(price, alpha=0.01, lags=50, zero=False, title=None)\n",
    "plt.ylabel('Autocorrelation (before differencing)')\n",
    "plt.savefig('Graphics/Auto_Corr_Corn_Price.png', dpi=600, bbox_inches='tight')"
   ]
  },
  {
   "cell_type": "markdown",
   "metadata": {},
   "source": [
    "The autocorrelation plot shows strong autocorrelation. This is a signal for non-stationarity. Let's verify this be conducting an Augmented Dickey-Fuller test..."
   ]
  },
  {
   "cell_type": "code",
   "execution_count": 14,
   "metadata": {
    "scrolled": true
   },
   "outputs": [
    {
     "name": "stdout",
     "output_type": "stream",
     "text": [
      "ADF Statistic: -1.80\n",
      "p-value: 0.381583\n",
      "Critical Values:\n",
      "\t1%: -3.43\n",
      "\t5%: -2.86\n",
      "\t10%: -2.57\n"
     ]
    }
   ],
   "source": [
    "# Use Augmented Dickey–Fuller test to check stationarity\n",
    "result = adfuller(price)\n",
    "print('ADF Statistic: %.2f' % result[0])\n",
    "print('p-value: %f' % result[1])\n",
    "print('Critical Values:')\n",
    "for key, value in result[4].items():\n",
    "    print('\\t%s: %.2f' % (key, value))"
   ]
  },
  {
   "cell_type": "markdown",
   "metadata": {},
   "source": [
    "The null hypothesis H0 of the test is that the time series is non-stationary. Running the example, we can see that the test statistic value is -1.80. This is larger than all of the critical values at the 1%, 5% and 10% confidence levels. So, we can say that the time series does appear to be non-stationary, because the null hypothesis cannot be rejected."
   ]
  },
  {
   "cell_type": "markdown",
   "metadata": {},
   "source": [
    "### 1.2 Differencing"
   ]
  },
  {
   "cell_type": "code",
   "execution_count": 15,
   "metadata": {
    "scrolled": false
   },
   "outputs": [
    {
     "data": {
      "image/png": "[encoded data removed]",
      "text/plain": [
       "<Figure size 432x288 with 1 Axes>"
      ]
     },
     "metadata": {},
     "output_type": "display_data"
    }
   ],
   "source": [
    "# Difference the dataset\n",
    "diff = df_final.Price.diff().dropna().values\n",
    "# Create autocorrelation plot again\n",
    "plot_acf(diff, alpha=0.01, lags=50, zero=False, title=None)\n",
    "plt.xlabel('Lag days')\n",
    "plt.ylabel('Autocorrelation (after differencing)')\n",
    "plt.savefig('Graphics/Auto_Corr_Corn_Price_Diff.png', dpi=600, bbox_inches='tight')"
   ]
  },
  {
   "cell_type": "markdown",
   "metadata": {},
   "source": [
    "The autocorrelation plot does not show autocorrelation signs after differencing. This is a signal for a stationary time series. Let's verify this be conducting an Augmented Dickey-Fuller test..."
   ]
  },
  {
   "cell_type": "code",
   "execution_count": 16,
   "metadata": {},
   "outputs": [
    {
     "name": "stdout",
     "output_type": "stream",
     "text": [
      "ADF Statistic: -14.44\n",
      "p-value: 0.000000\n",
      "Critical Values:\n",
      "\t1%: -3.43\n",
      "\t5%: -2.86\n",
      "\t10%: -2.57\n"
     ]
    }
   ],
   "source": [
    "# Use Augmented Dickey–Fuller test to check stationarity\n",
    "result = adfuller(diff)\n",
    "print('ADF Statistic: %.2f' % result[0])\n",
    "print('p-value: %f' % result[1])\n",
    "print('Critical Values:')\n",
    "for key, value in result[4].items():\n",
    "    print('\\t%s: %.2f' % (key, value))"
   ]
  },
  {
   "cell_type": "markdown",
   "metadata": {},
   "source": [
    "The null hypothesis of the test is that the time series is non-stationary. Running the example, we can see that the test statistic value after take the first difference was -14.44. This is smaller than all of the critical values at the 1%, 5% and 10% confidence levels. Therefore, we can say that the time series does appear to be stationary, because the null hypothesis could be rejected."
   ]
  },
  {
   "cell_type": "markdown",
   "metadata": {},
   "source": [
    "## 2. Machine-/ Deep Learning"
   ]
  },
  {
   "cell_type": "markdown",
   "metadata": {},
   "source": [
    "In this section we'll try out different machine learning algorithms. <br>\n",
    "Here they are in order of increasing complexity: <br>\n",
    "1. SARIMA\n",
    "2. Linear Regression\n",
    "3. Support Vector Regressor (SVR)\n",
    "4. Random Forest Regressor\n",
    "5. Long Short Term Memory (LSTM)"
   ]
  },
  {
   "cell_type": "markdown",
   "metadata": {},
   "source": [
    "### 2.1 Benchmark / SARIMA"
   ]
  },
  {
   "cell_type": "markdown",
   "metadata": {},
   "source": [
    "Seasonal Autoregressive Integrated Moving Average (SARIMA) <br>\n",
    "Seasional: Repeating pattern within a year that happens over and over again. <br>\n",
    "Autoregressive: Predict values of time series today based on the value of the time series some period in the past. <br>\n",
    "Integrated: Time Series has trend that has to be eliminated. <br>\n",
    "Moving Average: Using moving average of residuals from prior time steps to make forecasts. <br>"
   ]
  },
  {
   "cell_type": "code",
   "execution_count": 17,
   "metadata": {},
   "outputs": [],
   "source": [
    "# Load dataset and extract corn price values\n",
    "df = read_dataframe('Data/Preprocessed_Data/AC_Combined_Model_2001_2018.csv')\n",
    "n_features = 8\n",
    "n_test = len(df)- df.index.get_loc('2014-01-02') # define test set size\n",
    "forecast_period = 30\n",
    "df_price = df[['Price']] # extract corn prices\n",
    "train, test = df_price[:-n_test], df_price[-n_test:] # split dataset into train & test"
   ]
  },
  {
   "cell_type": "code",
   "execution_count": 18,
   "metadata": {},
   "outputs": [
    {
     "name": "stdout",
     "output_type": "stream",
     "text": [
      "Total Samples: 4503\n",
      "Avg. Samples per year: 250\n"
     ]
    }
   ],
   "source": [
    "# Obs. per year to find seasonal cycle parameter \n",
    "print('Total Samples:',len(df))\n",
    "print('Avg. Samples per year:', int(len(df)/18))"
   ]
  },
  {
   "cell_type": "markdown",
   "metadata": {},
   "source": [
    "The seasonal patterns are expected to repeat annually, i.e. every 250 trading days. Thus, the seasonal parameter \"s\" is chosen as 250."
   ]
  },
  {
   "cell_type": "code",
   "execution_count": 19,
   "metadata": {},
   "outputs": [
    {
     "name": "stdout",
     "output_type": "stream",
     "text": [
      "--- 867 total seconds ---\n"
     ]
    }
   ],
   "source": [
    "# fit SARIMA model\n",
    "start_time = time.time()\n",
    "model = SARIMAX(df_price, order=(1, 1, 1), seasonal_order=(1, 0, 1, 250), \n",
    "                enforce_stationarity=False, enforce_invertibility=False)\n",
    "model_fit = model.fit(disp=False)\n",
    "print('--- {:.0f} total seconds ---'.format(time.time() - start_time))"
   ]
  },
  {
   "cell_type": "code",
   "execution_count": 20,
   "metadata": {
    "scrolled": false
   },
   "outputs": [],
   "source": [
    "# make SARIMA predictions for whole dataset\n",
    "yhat = model_fit.predict(start=train.index[0], end=test.index[-1])\n",
    "df_yhat = pd.DataFrame(yhat[1:])\n",
    "#df_yhat # for debugging"
   ]
  },
  {
   "cell_type": "code",
   "execution_count": 21,
   "metadata": {},
   "outputs": [
    {
     "name": "stdout",
     "output_type": "stream",
     "text": [
      "t+1  RMSE:5.23,  MAE:3.92,  R2:0.9798\n",
      "t+2  RMSE:7.37,  MAE:5.51,  R2:0.9599\n",
      "t+3  RMSE:8.88,  MAE:6.66,  R2:0.9418\n",
      "t+4  RMSE:10.24,  MAE:7.78,  R2:0.9224\n",
      "t+5  RMSE:11.48,  MAE:8.75,  R2:0.9024\n",
      "t+6  RMSE:12.65,  MAE:9.63,  R2:0.8815\n",
      "t+7  RMSE:13.68,  MAE:10.32,  R2:0.8615\n",
      "t+8  RMSE:14.59,  MAE:10.93,  R2:0.8422\n",
      "t+9  RMSE:15.50,  MAE:11.53,  R2:0.8216\n",
      "t+10  RMSE:16.42,  MAE:12.21,  R2:0.7996\n",
      "t+11  RMSE:17.42,  MAE:12.82,  R2:0.7745\n",
      "t+12  RMSE:18.37,  MAE:13.45,  R2:0.7489\n",
      "t+13  RMSE:19.24,  MAE:14.09,  R2:0.7243\n",
      "t+14  RMSE:20.03,  MAE:14.64,  R2:0.7011\n",
      "t+15  RMSE:20.77,  MAE:15.18,  R2:0.6783\n",
      "t+16  RMSE:21.49,  MAE:15.69,  R2:0.6555\n",
      "t+17  RMSE:22.16,  MAE:16.22,  R2:0.6333\n",
      "t+18  RMSE:22.84,  MAE:16.76,  R2:0.6100\n",
      "t+19  RMSE:23.47,  MAE:17.18,  R2:0.5876\n",
      "t+20  RMSE:24.10,  MAE:17.72,  R2:0.5648\n",
      "t+21  RMSE:24.76,  MAE:18.30,  R2:0.5401\n",
      "t+22  RMSE:25.42,  MAE:18.77,  R2:0.5144\n",
      "t+23  RMSE:26.00,  MAE:19.21,  R2:0.4913\n",
      "t+24  RMSE:26.53,  MAE:19.61,  R2:0.4693\n",
      "t+25  RMSE:27.05,  MAE:20.04,  R2:0.4471\n",
      "t+26  RMSE:27.53,  MAE:20.37,  R2:0.4263\n",
      "t+27  RMSE:28.04,  MAE:20.76,  R2:0.4034\n",
      "t+28  RMSE:28.55,  MAE:21.08,  R2:0.3802\n",
      "t+29  RMSE:29.06,  MAE:21.43,  R2:0.3565\n",
      "t+30  RMSE:29.58,  MAE:21.75,  R2:0.3323\n"
     ]
    }
   ],
   "source": [
    "# calculate forecast error for 30 forecast periods with walk-forward validation\n",
    "RMSE_sar = list()\n",
    "MAE_sar = list()\n",
    "R2_sar = list()\n",
    "for i in range(0,30):\n",
    "    # select forecasts and shift them for walk-forward validation \n",
    "    sarima = df_yhat[-n_test:].shift(i)\n",
    "    sarima.dropna(inplace=True)\n",
    "    test_sarima = df['Price'][-n_test:].iloc[i:]\n",
    "    # calculate metrics and append to list\n",
    "    rmse_sar = sqrt(mean_squared_error(test_sarima, sarima))\n",
    "    mae_score_sar = mean_absolute_error(test_sarima, sarima)\n",
    "    R2_score_sar = 1-(1-r2_score(test_sarima,sarima))*(len(sarima)-1)/(len(sarima)-n_features-1)\n",
    "    RMSE_sar.append(rmse_sar)\n",
    "    MAE_sar.append(mae_score_sar)\n",
    "    R2_sar.append(R2_score_sar)\n",
    "    print('t+%d  RMSE:%.2f,  MAE:%.2f,  R2:%.4f' % (i+1, rmse_sar, mae_score_sar, R2_score_sar))"
   ]
  },
  {
   "cell_type": "code",
   "execution_count": 22,
   "metadata": {},
   "outputs": [],
   "source": [
    "# Create models/datasets for further use with ML algorithms\n",
    "df_sa = df[1:] # drop first observations, because SARIMA can't predict them\n",
    "df_sa['SARIMA_pred'] = df_yhat.values # add SARIMA predictions to whole dataset\n",
    "# Combined Model (see section Forecast Evaluation in thesis)\n",
    "df_Combined = df_sa\n",
    "# CGM output model\n",
    "df_CGM = df_sa.drop({'precipitation18', 'tmax18', 'tmin18'}, axis=1)\n",
    "# Separate model with climate variables\n",
    "df_Separate = df_sa.drop({'Yield18', 'Yield7', 'AGB7', 'AGB18'}, axis=1)"
   ]
  },
  {
   "cell_type": "markdown",
   "metadata": {},
   "source": [
    "#### WASDE release dates"
   ]
  },
  {
   "cell_type": "markdown",
   "metadata": {},
   "source": [
    "We want to check how well the price predictions for the WASDE release dates are."
   ]
  },
  {
   "cell_type": "code",
   "execution_count": 23,
   "metadata": {},
   "outputs": [],
   "source": [
    "# Importing price data with dates as index\n",
    "df_C1 = read_dataframe('Data/01_Corn_Futures_Price_C1_1999_2019.csv')\n",
    "df_corn = df_C1[['PX_Last']] # Extract closing price"
   ]
  },
  {
   "cell_type": "code",
   "execution_count": 24,
   "metadata": {},
   "outputs": [
    {
     "name": "stdout",
     "output_type": "stream",
     "text": [
      "Missing values BEFORE dropping NaN: 24\n",
      "Missing values AFTER dropping NaN: 0\n",
      "Count of closing price data: 5247\n"
     ]
    }
   ],
   "source": [
    "# Drop NaN values in PX_Last column: 24 missing values are dropped\n",
    "print('Missing values BEFORE dropping NaN:', df_corn['PX_Last'].isnull().sum())\n",
    "df_corn.dropna(inplace=True) \n",
    "print('Missing values AFTER dropping NaN:', df_corn['PX_Last'].isnull().sum())\n",
    "print('Count of closing price data:', df_corn.shape[0])"
   ]
  },
  {
   "cell_type": "code",
   "execution_count": 25,
   "metadata": {},
   "outputs": [],
   "source": [
    "# Import WASDE release dates\n",
    "release_dates = pd.read_excel('Data/AB_WASDE_Release_Dates_2001_2018.xlsx', header=0)\n",
    "release_dates = pd.DataFrame(release_dates['Date'].sort_values(ascending=True))\n",
    "release_dates['Date'] = pd.to_datetime(release_dates.Date)\n",
    "release = release_dates.set_index('Date')\n",
    "# Shift corn price to get presistence model forecasts\n",
    "df_shifted = df_corn.shift(1)"
   ]
  },
  {
   "cell_type": "code",
   "execution_count": 26,
   "metadata": {},
   "outputs": [],
   "source": [
    "# Merge WASDE release dates with presistence model (EMH) and SARIMA predictions\n",
    "df_yhat.rename(columns={0:'SARIMA'}, inplace=True)\n",
    "price_at_release = pd.merge(df_corn, release, how='inner', on='Date')\n",
    "prices = pd.merge(price_at_release, df_yhat, how='inner', on='Date')\n",
    "prices = pd.merge(prices, df_shifted, how='inner', on='Date')\n",
    "prices.rename(columns={'PX_Last_x':'Observed', 'PX_Last_y':'EMH'}, inplace=True)"
   ]
  },
  {
   "cell_type": "code",
   "execution_count": 27,
   "metadata": {},
   "outputs": [
    {
     "data": {
      "text/html": [
       "<div>\n",
       "<style scoped>\n",
       "    .dataframe tbody tr th:only-of-type {\n",
       "        vertical-align: middle;\n",
       "    }\n",
       "\n",
       "    .dataframe tbody tr th {\n",
       "        vertical-align: top;\n",
       "    }\n",
       "\n",
       "    .dataframe thead th {\n",
       "        text-align: right;\n",
       "    }\n",
       "</style>\n",
       "<table border=\"1\" class=\"dataframe\">\n",
       "  <thead>\n",
       "    <tr style=\"text-align: right;\">\n",
       "      <th></th>\n",
       "      <th>Observed</th>\n",
       "      <th>SARIMA</th>\n",
       "      <th>EMH</th>\n",
       "    </tr>\n",
       "    <tr>\n",
       "      <th>Date</th>\n",
       "      <th></th>\n",
       "      <th></th>\n",
       "      <th></th>\n",
       "    </tr>\n",
       "  </thead>\n",
       "  <tbody>\n",
       "    <tr>\n",
       "      <th>2001-02-08</th>\n",
       "      <td>210.00</td>\n",
       "      <td>213.233745</td>\n",
       "      <td>212.25</td>\n",
       "    </tr>\n",
       "    <tr>\n",
       "      <th>2001-03-08</th>\n",
       "      <td>213.50</td>\n",
       "      <td>215.414107</td>\n",
       "      <td>213.25</td>\n",
       "    </tr>\n",
       "    <tr>\n",
       "      <th>2001-04-10</th>\n",
       "      <td>209.00</td>\n",
       "      <td>210.356436</td>\n",
       "      <td>210.75</td>\n",
       "    </tr>\n",
       "    <tr>\n",
       "      <th>2001-05-10</th>\n",
       "      <td>191.50</td>\n",
       "      <td>197.749859</td>\n",
       "      <td>197.75</td>\n",
       "    </tr>\n",
       "    <tr>\n",
       "      <th>2001-06-12</th>\n",
       "      <td>197.25</td>\n",
       "      <td>197.569532</td>\n",
       "      <td>198.75</td>\n",
       "    </tr>\n",
       "    <tr>\n",
       "      <th>...</th>\n",
       "      <td>...</td>\n",
       "      <td>...</td>\n",
       "      <td>...</td>\n",
       "    </tr>\n",
       "    <tr>\n",
       "      <th>2018-08-10</th>\n",
       "      <td>357.75</td>\n",
       "      <td>369.025040</td>\n",
       "      <td>369.25</td>\n",
       "    </tr>\n",
       "    <tr>\n",
       "      <th>2018-09-12</th>\n",
       "      <td>341.50</td>\n",
       "      <td>355.220264</td>\n",
       "      <td>355.25</td>\n",
       "    </tr>\n",
       "    <tr>\n",
       "      <th>2018-10-11</th>\n",
       "      <td>369.25</td>\n",
       "      <td>362.563186</td>\n",
       "      <td>362.75</td>\n",
       "    </tr>\n",
       "    <tr>\n",
       "      <th>2018-11-08</th>\n",
       "      <td>373.50</td>\n",
       "      <td>372.382395</td>\n",
       "      <td>372.25</td>\n",
       "    </tr>\n",
       "    <tr>\n",
       "      <th>2018-12-11</th>\n",
       "      <td>375.00</td>\n",
       "      <td>374.219706</td>\n",
       "      <td>374.25</td>\n",
       "    </tr>\n",
       "  </tbody>\n",
       "</table>\n",
       "<p>214 rows × 3 columns</p>\n",
       "</div>"
      ],
      "text/plain": [
       "            Observed      SARIMA     EMH\n",
       "Date                                    \n",
       "2001-02-08    210.00  213.233745  212.25\n",
       "2001-03-08    213.50  215.414107  213.25\n",
       "2001-04-10    209.00  210.356436  210.75\n",
       "2001-05-10    191.50  197.749859  197.75\n",
       "2001-06-12    197.25  197.569532  198.75\n",
       "...              ...         ...     ...\n",
       "2018-08-10    357.75  369.025040  369.25\n",
       "2018-09-12    341.50  355.220264  355.25\n",
       "2018-10-11    369.25  362.563186  362.75\n",
       "2018-11-08    373.50  372.382395  372.25\n",
       "2018-12-11    375.00  374.219706  374.25\n",
       "\n",
       "[214 rows x 3 columns]"
      ]
     },
     "execution_count": 27,
     "metadata": {},
     "output_type": "execute_result"
    }
   ],
   "source": [
    "prices # for debugging"
   ]
  },
  {
   "cell_type": "code",
   "execution_count": 28,
   "metadata": {
    "scrolled": true
   },
   "outputs": [
    {
     "name": "stdout",
     "output_type": "stream",
     "text": [
      "RMSE: 10.15,  MAE: 7.14,  R2: 0.9957\n"
     ]
    }
   ],
   "source": [
    "# Forecast errors for WASDE release dates\n",
    "rmse = sqrt(mean_squared_error(prices['Observed'], prices['SARIMA']))\n",
    "mae_score = mean_absolute_error(prices['Observed'], prices['SARIMA'])\n",
    "R2_score = 1-(1-r2_score(prices['Observed'],\n",
    "                         prices['SARIMA']))*(len(prices)-1)/(len(prices)-n_features-1)\n",
    "print('RMSE: {0:.2f},  MAE: {1:.2f},  R2: {2:.4f}'.format(rmse, mae_score, R2_score))"
   ]
  },
  {
   "cell_type": "markdown",
   "metadata": {},
   "source": [
    "Plot the observed prices onto the SARIMA price predictions for the WASDE release dates for every year."
   ]
  },
  {
   "cell_type": "code",
   "execution_count": 29,
   "metadata": {},
   "outputs": [],
   "source": [
    "#-----------------------------------------------------------------\n",
    "# PARAMETER SELECTION\n",
    "wasde_year = 2001 # possible values for plotting: year 2001 up to 2018\n",
    "#-----------------------------------------------------------------"
   ]
  },
  {
   "cell_type": "code",
   "execution_count": 30,
   "metadata": {
    "scrolled": true
   },
   "outputs": [
    {
     "data": {
      "image/png": "[encoded data removed]",
      "text/plain": [
       "<Figure size 432x288 with 1 Axes>"
      ]
     },
     "metadata": {},
     "output_type": "display_data"
    },
    {
     "name": "stdout",
     "output_type": "stream",
     "text": [
      "Trend line: y = 69.37 + 0.67*x\n"
     ]
    }
   ],
   "source": [
    "# plot observed prices vs. SARIMA predictions\n",
    "year = wasde_year - 2001\n",
    "plt.scatter(prices['Observed'][12*year:(year+1)*12], prices['SARIMA'][12*year:(year+1)*12], color='r', label='Price', s=10)\n",
    "# calc the trendline\n",
    "z = np.polyfit(prices['Observed'][12*year:(year+1)*12], prices['SARIMA'][12*year:(year+1)*12], 1)\n",
    "p = np.poly1d(z)\n",
    "plt.plot(prices['Observed'][12*year:(year+1)*12],p(prices['Observed'][12*year:(year+1)*12]),linestyle=':', label='Trend')\n",
    "# Add title and axis names\n",
    "plt.xlabel('Obserbed Price')\n",
    "plt.ylabel('Predicted Price')\n",
    "plt.tight_layout()\n",
    "plt.show()\n",
    "# the line equation:\n",
    "print(\"Trend line: y = %.2f + %.2f*x\" % (z[1],z[0]))"
   ]
  },
  {
   "cell_type": "code",
   "execution_count": 31,
   "metadata": {
    "scrolled": true
   },
   "outputs": [
    {
     "data": {
      "image/png": "[encoded data removed]",
      "text/plain": [
       "<Figure size 432x288 with 1 Axes>"
      ]
     },
     "metadata": {},
     "output_type": "display_data"
    },
    {
     "name": "stdout",
     "output_type": "stream",
     "text": [
      "Trend line: y = 2.29 + 0.99*x\n"
     ]
    }
   ],
   "source": [
    "# Quantile plot SARIMA forecasts against actual prices to check for outliers\n",
    "plt.scatter(prices['Observed'], prices['SARIMA'], color='b', label='WASDE Release Price',s=10)\n",
    "# calc the trendline\n",
    "z = np.polyfit(prices['Observed'], prices['SARIMA'], 1)\n",
    "p = np.poly1d(z)\n",
    "plt.plot(prices['Observed'],p(prices['Observed']), color='g',linestyle=':', label='Trend')\n",
    "# Add title and axis names\n",
    "plt.xlabel('Observed Price')\n",
    "plt.ylabel('Predicted Price')\n",
    "plt.legend(frameon=True)\n",
    "plt.tight_layout()\n",
    "plt.show()\n",
    "print(\"Trend line: y = %.2f + %.2f*x\" % (z[1],z[0]))"
   ]
  },
  {
   "cell_type": "markdown",
   "metadata": {},
   "source": [
    "### 2.2 Linear Regression"
   ]
  },
  {
   "cell_type": "code",
   "execution_count": 32,
   "metadata": {},
   "outputs": [
    {
     "name": "stdout",
     "output_type": "stream",
     "text": [
      "Total number of input features in reframed: 405\n"
     ]
    }
   ],
   "source": [
    "#-----------------------------------------------------------------\n",
    "# PARAMETER SELECTION\n",
    "df = df_Combined # possible values: df_Combined, df_CGM, df_Separate\n",
    "n_features = 9 # if df_Combined: 9, if df_CGM: 6, if df_Separate: 5\n",
    "forecast_period = 30 # Number of forecast days\n",
    "lag_days = 45 # Number of lagged days that should be in the evaluated data set\n",
    "print('Total number of input features in reframed:', lag_days*n_features)\n",
    "#-----------------------------------------------------------------"
   ]
  },
  {
   "cell_type": "code",
   "execution_count": 33,
   "metadata": {},
   "outputs": [
    {
     "name": "stdout",
     "output_type": "stream",
     "text": [
      "Training size: 3178\n",
      "Test size: 1249\n"
     ]
    }
   ],
   "source": [
    "# Data preparation\n",
    "n_test = len(df)- df.index.get_loc('2014-01-02')\n",
    "scaler, train, test, reframed = prepare_data(df, n_test, n_features, lag_days, forecast_period)\n",
    "print('Training size:', len(train))\n",
    "print('Test size:', len(test))\n",
    "X_train, y_train = train[:, :-forecast_period], train[:, -forecast_period:]\n",
    "X_test, y_test = test[:, :-forecast_period], test[:, -forecast_period:]"
   ]
  },
  {
   "cell_type": "code",
   "execution_count": 34,
   "metadata": {},
   "outputs": [
    {
     "data": {
      "text/plain": [
       "Index(['var2(t-45)', 'var3(t-45)', 'var4(t-45)', 'var5(t-45)', 'var6(t-45)',\n",
       "       'var7(t-45)', 'var8(t-45)', 'var9(t-45)', 'var10(t-45)', 'var2(t-44)',\n",
       "       ...\n",
       "       'var1(t+20)', 'var1(t+21)', 'var1(t+22)', 'var1(t+23)', 'var1(t+24)',\n",
       "       'var1(t+25)', 'var1(t+26)', 'var1(t+27)', 'var1(t+28)', 'var1(t+29)'],\n",
       "      dtype='object', length=435)"
      ]
     },
     "execution_count": 34,
     "metadata": {},
     "output_type": "execute_result"
    }
   ],
   "source": [
    "reframed.columns # for debugging"
   ]
  },
  {
   "cell_type": "code",
   "execution_count": 35,
   "metadata": {},
   "outputs": [],
   "source": [
    "# fit linear regression\n",
    "model = LinearRegression(normalize=False)\n",
    "model = model.fit(X_train, y_train)"
   ]
  },
  {
   "cell_type": "code",
   "execution_count": 36,
   "metadata": {
    "scrolled": false
   },
   "outputs": [
    {
     "name": "stdout",
     "output_type": "stream",
     "text": [
      "t+1,  RMSE: 6.38,  MAE: 4.87,  R2: 0.9710\n",
      "t+2,  RMSE: 9.02,  MAE: 6.94,  R2: 0.9420\n",
      "t+3,  RMSE: 10.75,  MAE: 8.21,  R2: 0.9177\n",
      "t+4,  RMSE: 12.30,  MAE: 9.51,  R2: 0.8921\n",
      "t+5,  RMSE: 13.57,  MAE: 10.55,  R2: 0.8685\n",
      "t+6,  RMSE: 14.60,  MAE: 11.46,  R2: 0.8475\n",
      "t+7,  RMSE: 15.59,  MAE: 12.19,  R2: 0.8259\n",
      "t+8,  RMSE: 16.57,  MAE: 12.89,  R2: 0.8032\n",
      "t+9,  RMSE: 17.49,  MAE: 13.68,  R2: 0.7807\n",
      "t+10,  RMSE: 18.55,  MAE: 14.50,  R2: 0.7529\n",
      "t+11,  RMSE: 19.66,  MAE: 15.25,  R2: 0.7223\n",
      "t+12,  RMSE: 20.53,  MAE: 15.91,  R2: 0.6968\n",
      "t+13,  RMSE: 21.26,  MAE: 16.38,  R2: 0.6744\n",
      "t+14,  RMSE: 21.93,  MAE: 16.82,  R2: 0.6531\n",
      "t+15,  RMSE: 22.57,  MAE: 17.29,  R2: 0.6320\n",
      "t+16,  RMSE: 23.26,  MAE: 17.81,  R2: 0.6088\n",
      "t+17,  RMSE: 24.00,  MAE: 18.31,  R2: 0.5828\n",
      "t+18,  RMSE: 24.75,  MAE: 18.85,  R2: 0.5559\n",
      "t+19,  RMSE: 25.32,  MAE: 19.30,  R2: 0.5345\n",
      "t+20,  RMSE: 25.92,  MAE: 19.91,  R2: 0.5115\n",
      "t+21,  RMSE: 26.57,  MAE: 20.52,  R2: 0.4859\n",
      "t+22,  RMSE: 27.09,  MAE: 21.05,  R2: 0.4648\n",
      "t+23,  RMSE: 27.50,  MAE: 21.44,  R2: 0.4475\n",
      "t+24,  RMSE: 27.88,  MAE: 21.77,  R2: 0.4311\n",
      "t+25,  RMSE: 28.37,  MAE: 22.06,  R2: 0.4099\n",
      "t+26,  RMSE: 28.73,  MAE: 22.27,  R2: 0.3937\n",
      "t+27,  RMSE: 29.21,  MAE: 22.65,  R2: 0.3722\n",
      "t+28,  RMSE: 29.64,  MAE: 23.01,  R2: 0.3528\n",
      "t+29,  RMSE: 30.00,  MAE: 23.32,  R2: 0.3358\n",
      "t+30,  RMSE: 30.46,  MAE: 23.63,  R2: 0.3147\n"
     ]
    }
   ],
   "source": [
    "# Make predictions and evaluate them\n",
    "forecasts = model.predict(X_test) # Prediction from algorithm\n",
    "actual = [row[-forecast_period:] for row in test] # Acutal test values\n",
    "# Undifferencing, unscaling and evaluating Prediction vs. Actual\n",
    "rmse_pred_lin, R2_pred_lin, mae_pred_lin, forecasts_inv, actual_inv = evaluation_RMSE(df, \n",
    "        actual, forecasts, train, test, scaler, n_test, lag_days, forecast_period, n_features)\n",
    "for i in range(len(rmse_pred_lin)):\n",
    "    print('t+{0:.0f},  RMSE: {1:.2f},  MAE: {3:.2f},  R2: {2:.4f}'\n",
    "          .format(i+1, rmse_pred_lin[i], R2_pred_lin[i], mae_pred_lin[i]))"
   ]
  },
  {
   "cell_type": "markdown",
   "metadata": {},
   "source": [
    "### 2.3 Support Vector Regressor (SVR)"
   ]
  },
  {
   "cell_type": "markdown",
   "metadata": {},
   "source": [
    "Important: SVR & Random Forest Regressor only work for forecast_period=1"
   ]
  },
  {
   "cell_type": "code",
   "execution_count": 37,
   "metadata": {},
   "outputs": [
    {
     "name": "stdout",
     "output_type": "stream",
     "text": [
      "Total number of input features in reframed: 405\n"
     ]
    }
   ],
   "source": [
    "#-----------------------------------------------------------------\n",
    "# PARAMETER SELECTION\n",
    "df = df_Combined # possible values: df_Combined, df_CGM, df_Separate\n",
    "n_features = 9 # if df_Combined: 9, if df_CGM: 6, if df_Separate: 5\n",
    "forecast_period = 1 # Number of forecast days\n",
    "lag_days = 45 # Number of lagged days that should be in the evaluated data set\n",
    "print('Total number of input features in reframed:', lag_days*n_features)\n",
    "#-----------------------------------------------------------------"
   ]
  },
  {
   "cell_type": "code",
   "execution_count": 38,
   "metadata": {
    "scrolled": true
   },
   "outputs": [
    {
     "name": "stdout",
     "output_type": "stream",
     "text": [
      "Training size: 3207\n",
      "Test size: 1249\n"
     ]
    }
   ],
   "source": [
    "# Data preparation for algorithm training\n",
    "n_test = len(df)- df.index.get_loc('2014-01-02')\n",
    "scaler, train, test, reframed = prepare_data(df, n_test, n_features, lag_days, forecast_period)\n",
    "print('Training size:', len(train))\n",
    "print('Test size:', len(test))\n",
    "X_train, y_train = train[:, :-forecast_period], train[:, -forecast_period:]\n",
    "X_test, y_test = test[:, :-forecast_period], test[:, -forecast_period:]"
   ]
  },
  {
   "cell_type": "code",
   "execution_count": 39,
   "metadata": {
    "scrolled": true
   },
   "outputs": [
    {
     "data": {
      "text/plain": [
       "Index(['var2(t-45)', 'var3(t-45)', 'var4(t-45)', 'var5(t-45)', 'var6(t-45)',\n",
       "       'var7(t-45)', 'var8(t-45)', 'var9(t-45)', 'var10(t-45)', 'var2(t-44)',\n",
       "       ...\n",
       "       'var2(t-1)', 'var3(t-1)', 'var4(t-1)', 'var5(t-1)', 'var6(t-1)',\n",
       "       'var7(t-1)', 'var8(t-1)', 'var9(t-1)', 'var10(t-1)', 'var1(t)'],\n",
       "      dtype='object', length=406)"
      ]
     },
     "execution_count": 39,
     "metadata": {},
     "output_type": "execute_result"
    }
   ],
   "source": [
    "reframed.columns # for debugging"
   ]
  },
  {
   "cell_type": "code",
   "execution_count": 40,
   "metadata": {
    "scrolled": true
   },
   "outputs": [
    {
     "name": "stdout",
     "output_type": "stream",
     "text": [
      "Fitting 5 folds for each of 1 candidates, totalling 5 fits\n"
     ]
    },
    {
     "name": "stderr",
     "output_type": "stream",
     "text": [
      "[Parallel(n_jobs=-1)]: Using backend LokyBackend with 8 concurrent workers.\n",
      "[Parallel(n_jobs=-1)]: Done   2 out of   5 | elapsed:    3.1s remaining:    4.7s\n",
      "[Parallel(n_jobs=-1)]: Done   5 out of   5 | elapsed:    3.3s finished\n"
     ]
    },
    {
     "name": "stdout",
     "output_type": "stream",
     "text": [
      "Best MSE Training score: 0.001967\n",
      "Best parameters: {'regressor__C': 50, 'regressor__gamma': 5}\n",
      "\n",
      " --- 4 total seconds ---\n"
     ]
    }
   ],
   "source": [
    "# Train the SVR algorithm using GridSearch with Cross Validation for hyperparameter tuning.\n",
    "# Chosen hyperparameters are already optimized\n",
    "start_time = time.time()\n",
    "pipe_rf = Pipeline([('regressor', SVR(kernel='rbf'))])\n",
    "\n",
    "param_grid = {'regressor__C':     [50],\n",
    "              'regressor__gamma': [5]}\n",
    "\n",
    "kFold = KFold(n_splits=5, random_state=0)\n",
    "grid = GridSearchCV(pipe_rf, param_grid, scoring='neg_mean_squared_error', n_jobs=-1, \n",
    "                    cv=kFold, verbose=1, return_train_score=True)\n",
    "grid.fit(X_train, y_train)\n",
    "\n",
    "print('Best MSE Training score: {:.6f}'.format(abs(grid.best_score_)))\n",
    "print('Best parameters: {}'.format(grid.best_params_))\n",
    "print('\\n', '--- {:.0f} total seconds ---'.format(time.time() - start_time))"
   ]
  },
  {
   "cell_type": "code",
   "execution_count": 41,
   "metadata": {},
   "outputs": [],
   "source": [
    "# Make predictios with SVR for test set\n",
    "forecasts = grid.best_estimator_.predict(X_test)\n",
    "actual = [row[-forecast_period:] for row in test]\n",
    "# Undifferencing, unscaling for predicted & actual prices\n",
    "rmse_pred, R2_pred, mae_pred, forecasts_inv, actual_inv = evaluation_RMSE(df, actual, forecasts,\n",
    "                            train, test, scaler, n_test, lag_days, forecast_period, n_features)\n",
    "forecasts_svr = [item for sublist in forecasts_inv for item in sublist]\n",
    "actual_svr = [item for sublist in actual_inv for item in sublist]\n",
    "df_yhat = pd.DataFrame(forecasts_svr, columns={'SVR'})\n",
    "df_yhat['Observed'] = pd.DataFrame(actual_svr)"
   ]
  },
  {
   "cell_type": "code",
   "execution_count": 42,
   "metadata": {},
   "outputs": [
    {
     "name": "stdout",
     "output_type": "stream",
     "text": [
      "t+1  RMSE:5.51,  MAE:4.22,  R2:0.9776\n",
      "t+2  RMSE:7.55,  MAE:5.72,  R2:0.9579\n",
      "t+3  RMSE:9.02,  MAE:6.86,  R2:0.9398\n",
      "t+4  RMSE:10.36,  MAE:7.93,  R2:0.9205\n",
      "t+5  RMSE:11.59,  MAE:8.92,  R2:0.9006\n",
      "t+6  RMSE:12.74,  MAE:9.78,  R2:0.8797\n",
      "t+7  RMSE:13.75,  MAE:10.44,  R2:0.8599\n",
      "t+8  RMSE:14.66,  MAE:11.06,  R2:0.8407\n",
      "t+9  RMSE:15.56,  MAE:11.65,  R2:0.8202\n",
      "t+10  RMSE:16.47,  MAE:12.32,  R2:0.7982\n",
      "t+11  RMSE:17.46,  MAE:12.92,  R2:0.7731\n",
      "t+12  RMSE:18.41,  MAE:13.56,  R2:0.7477\n",
      "t+13  RMSE:19.27,  MAE:14.21,  R2:0.7233\n",
      "t+14  RMSE:20.05,  MAE:14.76,  R2:0.7003\n",
      "t+15  RMSE:20.79,  MAE:15.33,  R2:0.6775\n",
      "t+16  RMSE:21.49,  MAE:15.84,  R2:0.6549\n",
      "t+17  RMSE:22.16,  MAE:16.39,  R2:0.6328\n",
      "t+18  RMSE:22.83,  MAE:16.91,  R2:0.6098\n",
      "t+19  RMSE:23.46,  MAE:17.37,  R2:0.5875\n",
      "t+20  RMSE:24.09,  MAE:17.90,  R2:0.5647\n",
      "t+21  RMSE:24.75,  MAE:18.45,  R2:0.5401\n",
      "t+22  RMSE:25.41,  MAE:18.94,  R2:0.5145\n",
      "t+23  RMSE:25.98,  MAE:19.38,  R2:0.4918\n",
      "t+24  RMSE:26.51,  MAE:19.79,  R2:0.4698\n",
      "t+25  RMSE:27.02,  MAE:20.23,  R2:0.4479\n",
      "t+26  RMSE:27.50,  MAE:20.54,  R2:0.4271\n",
      "t+27  RMSE:28.01,  MAE:20.94,  R2:0.4044\n",
      "t+28  RMSE:28.51,  MAE:21.26,  R2:0.3814\n",
      "t+29  RMSE:29.02,  MAE:21.61,  R2:0.3578\n",
      "t+30  RMSE:29.53,  MAE:21.95,  R2:0.3337\n"
     ]
    }
   ],
   "source": [
    "# Evaluate predictions with walk-forward approach\n",
    "RMSE_svr = list()\n",
    "MAE_svr = list()\n",
    "R2_svr = list()\n",
    "for i in range(0,30):\n",
    "    svr = df_yhat['SVR'].shift(i).dropna()\n",
    "    test_svr = df_yhat['Observed'].iloc[i:]\n",
    "    rmse_svr = sqrt(mean_squared_error(test_svr, svr))\n",
    "    mae_score_svr = mean_absolute_error(test_svr, svr)\n",
    "    R2_score_svr = R2_score = 1-(1-r2_score(test_svr,svr))*(len(svr)-1)/(len(svr)-n_features-1)\n",
    "    RMSE_svr.append(rmse_svr)\n",
    "    MAE_svr.append(mae_score_svr)\n",
    "    R2_svr.append(R2_score_svr)\n",
    "    print('t+%d  RMSE:%.2f,  MAE:%.2f,  R2:%.4f' % (i+1, rmse_svr, mae_score_svr, R2_score_svr))"
   ]
  },
  {
   "cell_type": "markdown",
   "metadata": {},
   "source": [
    "### 2.4 Random Forest"
   ]
  },
  {
   "cell_type": "code",
   "execution_count": 43,
   "metadata": {},
   "outputs": [
    {
     "name": "stdout",
     "output_type": "stream",
     "text": [
      "Fitting 5 folds for each of 1 candidates, totalling 5 fits\n"
     ]
    },
    {
     "name": "stderr",
     "output_type": "stream",
     "text": [
      "[Parallel(n_jobs=-1)]: Using backend LokyBackend with 8 concurrent workers.\n",
      "[Parallel(n_jobs=-1)]: Done   2 out of   5 | elapsed:   34.6s remaining:   52.0s\n",
      "[Parallel(n_jobs=-1)]: Done   5 out of   5 | elapsed:   35.3s finished\n"
     ]
    },
    {
     "name": "stdout",
     "output_type": "stream",
     "text": [
      "Best MSE Training score: 0.001873\n",
      "Best parameters: {'regressor__max_features': 'sqrt', 'regressor__min_samples_leaf': 20, 'regressor__min_samples_split': 10, 'regressor__n_estimators': 1000}\n",
      "\n",
      " --- 45 total seconds ---\n"
     ]
    }
   ],
   "source": [
    "# Train the RF algorithm using GridSearch with Cross Validation for hyperparameter tuning.\n",
    "# Chosen hyperparameters are already optimized\n",
    "start_time = time.time()\n",
    "pipe_rf = Pipeline([('regressor', RandomForestRegressor(criterion='mse', random_state=1,\n",
    "                                                        n_jobs=-1))])\n",
    "\n",
    "param_grid = {'regressor__n_estimators':      [1000],   # higher is better \n",
    "              'regressor__max_features':      ['sqrt'], \n",
    "              'regressor__min_samples_leaf':  [20],     \n",
    "              'regressor__min_samples_split': [10]}     \n",
    "\n",
    "kFold = KFold(n_splits=5, random_state=0)\n",
    "grid = GridSearchCV(pipe_rf, param_grid, scoring='neg_mean_squared_error', n_jobs=-1,\n",
    "                    cv=kFold, verbose=1, return_train_score=True)\n",
    "grid.fit(X_train, y_train)\n",
    "\n",
    "print('Best MSE Training score: {:.6f}'.format(abs(grid.best_score_)))\n",
    "print('Best parameters: {}'.format(grid.best_params_))\n",
    "print('\\n', '--- {:.0f} total seconds ---'.format(time.time() - start_time))"
   ]
  },
  {
   "cell_type": "code",
   "execution_count": 44,
   "metadata": {},
   "outputs": [],
   "source": [
    "# Make predictions with Random Forest for test set\n",
    "forecasts = grid.best_estimator_.predict(X_test)\n",
    "actual = [row[-forecast_period:] for row in test]\n",
    "# Undifferencing, unscaling for predicted & actual prices\n",
    "rmse_rf, R2_rf, mae_rf, forecasts_inv, actual_inv = evaluation_RMSE(df, actual, forecasts, \n",
    "                        train, test, scaler, n_test, lag_days, forecast_period, n_features)\n",
    "forecasts_rf = [item for sublist in forecasts_inv for item in sublist]\n",
    "actual_rf = [item for sublist in actual_inv for item in sublist]\n",
    "df_yhat = pd.DataFrame(forecasts_rf, columns={'RF'})\n",
    "df_yhat['Observed'] = pd.DataFrame(actual_rf)"
   ]
  },
  {
   "cell_type": "code",
   "execution_count": 45,
   "metadata": {},
   "outputs": [
    {
     "name": "stdout",
     "output_type": "stream",
     "text": [
      "t+1  RMSE:5.23,  MAE:3.93,  R2:0.9798\n",
      "t+2  RMSE:7.32,  MAE:5.48,  R2:0.9604\n",
      "t+3  RMSE:8.81,  MAE:6.63,  R2:0.9426\n",
      "t+4  RMSE:10.18,  MAE:7.74,  R2:0.9233\n",
      "t+5  RMSE:11.41,  MAE:8.70,  R2:0.9036\n",
      "t+6  RMSE:12.56,  MAE:9.56,  R2:0.8831\n",
      "t+7  RMSE:13.57,  MAE:10.24,  R2:0.8635\n",
      "t+8  RMSE:14.49,  MAE:10.86,  R2:0.8442\n",
      "t+9  RMSE:15.40,  MAE:11.47,  R2:0.8239\n",
      "t+10  RMSE:16.32,  MAE:12.13,  R2:0.8020\n",
      "t+11  RMSE:17.31,  MAE:12.74,  R2:0.7770\n",
      "t+12  RMSE:18.26,  MAE:13.36,  R2:0.7518\n",
      "t+13  RMSE:19.12,  MAE:14.01,  R2:0.7275\n",
      "t+14  RMSE:19.91,  MAE:14.53,  R2:0.7046\n",
      "t+15  RMSE:20.66,  MAE:15.09,  R2:0.6817\n",
      "t+16  RMSE:21.37,  MAE:15.61,  R2:0.6590\n",
      "t+17  RMSE:22.04,  MAE:16.13,  R2:0.6369\n",
      "t+18  RMSE:22.72,  MAE:16.66,  R2:0.6137\n",
      "t+19  RMSE:23.35,  MAE:17.08,  R2:0.5915\n",
      "t+20  RMSE:23.99,  MAE:17.64,  R2:0.5685\n",
      "t+21  RMSE:24.65,  MAE:18.21,  R2:0.5438\n",
      "t+22  RMSE:25.31,  MAE:18.68,  R2:0.5184\n",
      "t+23  RMSE:25.88,  MAE:19.12,  R2:0.4956\n",
      "t+24  RMSE:26.42,  MAE:19.53,  R2:0.4735\n",
      "t+25  RMSE:26.94,  MAE:19.96,  R2:0.4513\n",
      "t+26  RMSE:27.41,  MAE:20.28,  R2:0.4307\n",
      "t+27  RMSE:27.92,  MAE:20.68,  R2:0.4080\n",
      "t+28  RMSE:28.43,  MAE:21.00,  R2:0.3850\n",
      "t+29  RMSE:28.94,  MAE:21.34,  R2:0.3613\n",
      "t+30  RMSE:29.46,  MAE:21.68,  R2:0.3370\n"
     ]
    }
   ],
   "source": [
    "# Evaluate predictions with walk-forward approach\n",
    "RMSE_rf = list()\n",
    "MAE_rf = list()\n",
    "R2_rf = list()\n",
    "for i in range(0,30):\n",
    "    rf = df_yhat['RF'].shift(i).dropna()\n",
    "    test_rf = df_yhat['Observed'].iloc[i:]\n",
    "    rmse_rf = sqrt(mean_squared_error(test_rf, rf))\n",
    "    mae_score_rf = mean_absolute_error(test_rf, rf)\n",
    "    R2_score_rf = R2_score = 1-(1-r2_score(test_rf,rf))*(len(rf)-1)/(len(rf)-n_features-1)\n",
    "    RMSE_rf.append(rmse_rf)\n",
    "    MAE_rf.append(mae_score_rf)\n",
    "    R2_rf.append(R2_score_rf)\n",
    "    print('t+%d  RMSE:%.2f,  MAE:%.2f,  R2:%.4f' % (i+1, rmse_rf, mae_score_rf, R2_score_rf))"
   ]
  },
  {
   "cell_type": "markdown",
   "metadata": {},
   "source": [
    "### 2.5 Long Short Term Memory (LSTM)"
   ]
  },
  {
   "cell_type": "code",
   "execution_count": 46,
   "metadata": {},
   "outputs": [
    {
     "name": "stdout",
     "output_type": "stream",
     "text": [
      "Total number of input features in reframed: 405\n"
     ]
    }
   ],
   "source": [
    "#-----------------------------------------------------------------\n",
    "# PARAMETER SELECTION\n",
    "df = df_Combined # possible values: df_Combined, df_CGM, df_Separate\n",
    "n_features = 9 # if df_Combined: 9, if df_CGM: 6, if df_Separate: 5\n",
    "forecast_period = 30 # Number of forecast days\n",
    "lag_days = 45 # Number of lagged days that should be in the evaluated data set\n",
    "# LSTM params (chosen hyperparameters are optimized as best as possible):\n",
    "n_epochs = 20 # Number of epochs for training\n",
    "n_batch = 1 # Number of batches for training dataset\n",
    "n_neurons = 1 # Number of LSMT units/cells per hidden layer\n",
    "learning_rate = 0.000015 # fixed at 0.000015\n",
    "print('Total number of input features in reframed:', lag_days*n_features)\n",
    "#-----------------------------------------------------------------"
   ]
  },
  {
   "cell_type": "code",
   "execution_count": 47,
   "metadata": {
    "scrolled": true
   },
   "outputs": [
    {
     "name": "stdout",
     "output_type": "stream",
     "text": [
      "Total samples from 2001-2018: 4427\n",
      "Samples in test set: 1249\n",
      "Number of features in reframed model: 435\n"
     ]
    }
   ],
   "source": [
    "# Debugging summary values and automatic parameter creation\n",
    "n_test = len(df)- df.index.get_loc('2014-01-02')\n",
    "n_obs = lag_days * n_features # Number of variables taking all lag_days into account\n",
    "n_var_in_model = lag_days * n_features + forecast_period\n",
    "total_obs = len(df) - (lag_days-1) - (forecast_period-1) - 2\n",
    "training_size = total_obs - n_test # Number of training set size = whole dataset - n_test\n",
    "print('Total samples from 2001-2018:', total_obs)\n",
    "print('Samples in test set:', n_test)\n",
    "print('Number of features in reframed model:', n_var_in_model) # for debugging"
   ]
  },
  {
   "cell_type": "code",
   "execution_count": 48,
   "metadata": {
    "scrolled": true
   },
   "outputs": [
    {
     "name": "stdout",
     "output_type": "stream",
     "text": [
      "True\n",
      "True\n"
     ]
    }
   ],
   "source": [
    "# Data preparation for algorithm training\n",
    "scaler, train, test, reframed = prepare_data(df, n_test, n_features, lag_days, forecast_period)\n",
    "print(train.shape[0] == training_size) # for debugging, value has to be 'True'\n",
    "print(reframed.shape[0] == total_obs) # for debugging, value has to be 'True'"
   ]
  },
  {
   "cell_type": "code",
   "execution_count": 49,
   "metadata": {},
   "outputs": [
    {
     "data": {
      "text/plain": [
       "Index(['var2(t-45)', 'var3(t-45)', 'var4(t-45)', 'var5(t-45)', 'var6(t-45)',\n",
       "       'var7(t-45)', 'var8(t-45)', 'var9(t-45)', 'var10(t-45)', 'var2(t-44)',\n",
       "       ...\n",
       "       'var1(t+20)', 'var1(t+21)', 'var1(t+22)', 'var1(t+23)', 'var1(t+24)',\n",
       "       'var1(t+25)', 'var1(t+26)', 'var1(t+27)', 'var1(t+28)', 'var1(t+29)'],\n",
       "      dtype='object', length=435)"
      ]
     },
     "execution_count": 49,
     "metadata": {},
     "output_type": "execute_result"
    }
   ],
   "source": [
    "reframed.columns # for debugging"
   ]
  },
  {
   "cell_type": "code",
   "execution_count": 50,
   "metadata": {},
   "outputs": [
    {
     "name": "stdout",
     "output_type": "stream",
     "text": [
      "Epoch 1/20\n",
      "3178/3178 [==============================] - 69s 22ms/step - loss: 0.5455\n",
      "Epoch 2/20\n",
      "3178/3178 [==============================] - 68s 22ms/step - loss: 0.4202\n",
      "Epoch 3/20\n",
      "3178/3178 [==============================] - 67s 21ms/step - loss: 0.3066\n",
      "Epoch 4/20\n",
      "3178/3178 [==============================] - 67s 21ms/step - loss: 0.2159\n",
      "Epoch 5/20\n",
      "3178/3178 [==============================] - 67s 21ms/step - loss: 0.1449\n",
      "Epoch 6/20\n",
      "3178/3178 [==============================] - 70s 22ms/step - loss: 0.0916\n",
      "Epoch 7/20\n",
      "3178/3178 [==============================] - 68s 21ms/step - loss: 0.0542 \n",
      "Epoch 8/20\n",
      "3178/3178 [==============================] - 68s 21ms/step - loss: 0.0297\n",
      "Epoch 9/20\n",
      "3178/3178 [==============================] - 68s 21ms/step - loss: 0.0152\n",
      "Epoch 10/20\n",
      "3178/3178 [==============================] - 68s 22ms/step - loss: 0.0075\n",
      "Epoch 11/20\n",
      "3178/3178 [==============================] - 71s 22ms/step - loss: 0.0039\n",
      "Epoch 12/20\n",
      "3178/3178 [==============================] - 70s 22ms/step - loss: 0.0024\n",
      "Epoch 13/20\n",
      "3178/3178 [==============================] - 70s 22ms/step - loss: 0.0020\n",
      "Epoch 14/20\n",
      "3178/3178 [==============================] - 69s 22ms/step - loss: 0.0019\n",
      "Epoch 15/20\n",
      "3178/3178 [==============================] - 68s 21ms/step - loss: 0.0019\n",
      "Epoch 16/20\n",
      "3178/3178 [==============================] - 69s 22ms/step - loss: 0.0019\n",
      "Epoch 17/20\n",
      "3178/3178 [==============================] - 68s 21ms/step - loss: 0.0019\n",
      "Epoch 18/20\n",
      "3178/3178 [==============================] - 69s 22ms/step - loss: 0.0019\n",
      "Epoch 19/20\n",
      "3178/3178 [==============================] - 71s 22ms/step - loss: 0.0019\n",
      "Epoch 20/20\n",
      "3178/3178 [==============================] - 70s 22ms/step - loss: 0.0019\n",
      "\n",
      " --- 1379 total seconds ---\n"
     ]
    }
   ],
   "source": [
    "# Training and fitting the LSTM algorithm\n",
    "start_time = time.time()\n",
    "model, model_fit = fit_lstm(train, lag_days, forecast_period, n_batch, n_epochs, n_neurons, \n",
    "                            n_features, learning_rate)\n",
    "print('\\n', '--- {:.0f} total seconds ---'.format(time.time() - start_time))"
   ]
  },
  {
   "cell_type": "code",
   "execution_count": 51,
   "metadata": {
    "scrolled": true
   },
   "outputs": [
    {
     "data": {
      "image/png": "[encoded data removed]",
      "text/plain": [
       "<Figure size 432x288 with 1 Axes>"
      ]
     },
     "metadata": {},
     "output_type": "display_data"
    }
   ],
   "source": [
    "# plot training score history\n",
    "plt.plot(model_fit.history['loss'], label='Train MSE')\n",
    "plt.title('Forecast error during Training')\n",
    "plt.xlabel('Number of Epoches')\n",
    "plt.ylabel('Mean Squared Error [MSE]')\n",
    "plt.show()"
   ]
  },
  {
   "cell_type": "code",
   "execution_count": 52,
   "metadata": {
    "scrolled": false
   },
   "outputs": [
    {
     "name": "stdout",
     "output_type": "stream",
     "text": [
      "t+1  RMSE: 5.24,  MAE: 3.94,  R2: 0.9804\n",
      "t+2  RMSE: 7.37,  MAE: 5.53,  R2: 0.9613\n",
      "t+3  RMSE: 8.90,  MAE: 6.71,  R2: 0.9436\n",
      "t+4  RMSE: 10.27,  MAE: 7.83,  R2: 0.9247\n",
      "t+5  RMSE: 11.51,  MAE: 8.78,  R2: 0.9053\n",
      "t+6  RMSE: 12.65,  MAE: 9.61,  R2: 0.8855\n",
      "t+7  RMSE: 13.67,  MAE: 10.28,  R2: 0.8661\n",
      "t+8  RMSE: 14.59,  MAE: 10.87,  R2: 0.8474\n",
      "t+9  RMSE: 15.51,  MAE: 11.50,  R2: 0.8275\n",
      "t+10  RMSE: 16.45,  MAE: 12.19,  R2: 0.8058\n",
      "t+11  RMSE: 17.43,  MAE: 12.78,  R2: 0.7816\n",
      "t+12  RMSE: 18.40,  MAE: 13.40,  R2: 0.7563\n",
      "t+13  RMSE: 19.29,  MAE: 14.08,  R2: 0.7319\n",
      "t+14  RMSE: 20.09,  MAE: 14.64,  R2: 0.7090\n",
      "t+15  RMSE: 20.86,  MAE: 15.19,  R2: 0.6857\n",
      "t+16  RMSE: 21.58,  MAE: 15.73,  R2: 0.6632\n",
      "t+17  RMSE: 22.29,  MAE: 16.31,  R2: 0.6403\n",
      "t+18  RMSE: 23.00,  MAE: 16.89,  R2: 0.6163\n",
      "t+19  RMSE: 23.65,  MAE: 17.32,  R2: 0.5938\n",
      "t+20  RMSE: 24.30,  MAE: 17.85,  R2: 0.5708\n",
      "t+21  RMSE: 24.97,  MAE: 18.43,  R2: 0.5461\n",
      "t+22  RMSE: 25.64,  MAE: 18.89,  R2: 0.5208\n",
      "t+23  RMSE: 26.20,  MAE: 19.36,  R2: 0.4987\n",
      "t+24  RMSE: 26.76,  MAE: 19.77,  R2: 0.4759\n",
      "t+25  RMSE: 27.30,  MAE: 20.17,  R2: 0.4534\n",
      "t+26  RMSE: 27.79,  MAE: 20.49,  R2: 0.4325\n",
      "t+27  RMSE: 28.35,  MAE: 20.88,  R2: 0.4089\n",
      "t+28  RMSE: 28.90,  MAE: 21.25,  R2: 0.3847\n",
      "t+29  RMSE: 29.46,  MAE: 21.62,  R2: 0.3596\n",
      "t+30  RMSE: 29.99,  MAE: 21.97,  R2: 0.3353\n"
     ]
    }
   ],
   "source": [
    "# Make predictions with LSTM for test set\n",
    "forecasts = make_forecasts(model, n_batch, train, test, lag_days, forecast_period, n_features)\n",
    "actual = [row[-forecast_period:] for row in test]\n",
    "# Undifferencing, unscaling for predicted & actual prices\n",
    "rmse_pred, R2_pred, mae_pred, forecasts_inv, actual_inv = evaluation_RMSE(df, actual, forecasts,\n",
    "                            train, test, scaler, n_test, lag_days, forecast_period, n_features)\n",
    "for i in range(len(rmse_pred)):\n",
    "    print('t+{0:.0f}  RMSE: {1:.2f},  MAE: {3:.2f},  R2: {2:.4f}'\n",
    "          .format(i+1, rmse_pred[i], R2_pred[i], mae_pred[i]))"
   ]
  },
  {
   "cell_type": "markdown",
   "metadata": {},
   "source": [
    "#### 2.5.1 WASDE Release Dates"
   ]
  },
  {
   "cell_type": "markdown",
   "metadata": {},
   "source": [
    "We want to check how well the price predictions for the WASDE release dates are."
   ]
  },
  {
   "cell_type": "code",
   "execution_count": 53,
   "metadata": {},
   "outputs": [],
   "source": [
    "# Extract 1-day forecasts for plotting,...\n",
    "forecasts = []\n",
    "for sublist in forecasts_inv:\n",
    "    forecasts.append(sublist[0])\n",
    "forecasts = np.array(forecasts)\n",
    "# ...extract actual prices for plotting,...\n",
    "actual = []\n",
    "for sublist in actual_inv:\n",
    "    actual.append(sublist[0])\n",
    "actual = np.array(actual)\n",
    "residuals = [actual[i]-forecasts[i] for i in range(len(forecasts))]\n",
    "residuals = np.array(residuals)\n",
    "# ...extract forecasting dates and put all those variables in one dataframe.\n",
    "df_forecasts = pd.DataFrame(forecasts)\n",
    "df_forecasts['Date'] = pd.DataFrame(df[-n_test-forecast_period+1:-forecast_period+1].index)\n",
    "df_forecasts.set_index('Date', inplace=True)\n",
    "df_forecasts.rename(columns={0:'LSTM'}, inplace=True)\n",
    "df_forecasts['Observed'] = pd.DataFrame(actual).values"
   ]
  },
  {
   "cell_type": "code",
   "execution_count": 54,
   "metadata": {},
   "outputs": [
    {
     "name": "stdout",
     "output_type": "stream",
     "text": [
      "RMSE: 7.42,  MAE: 5.49,  R2: 0.9634\n"
     ]
    }
   ],
   "source": [
    "# Merge WASDE release dates with LSTM forecasts\n",
    "prices = pd.merge(price_at_release, df_forecasts, how='inner', on='Date')\n",
    "# Calculate forecast error for WASDE release dates\n",
    "rmse = sqrt(mean_squared_error(prices['Observed'], prices['LSTM']))\n",
    "mae_score = mean_absolute_error(prices['Observed'], prices['LSTM'])\n",
    "R2_score = 1-(1-r2_score(prices['Observed'], \n",
    "                         prices['LSTM']))*(len(forecasts)-1)/(len(forecasts)-n_features-1)\n",
    "print('RMSE: {0:.2f},  MAE: {1:.2f},  R2: {2:.4f}'.format(rmse, mae_score, R2_score))"
   ]
  },
  {
   "cell_type": "code",
   "execution_count": 55,
   "metadata": {
    "scrolled": true
   },
   "outputs": [
    {
     "name": "stdout",
     "output_type": "stream",
     "text": [
      "Trend line: y = 2.29 + 0.99*x\n"
     ]
    },
    {
     "data": {
      "image/png": "[encoded data removed]",
      "text/plain": [
       "<Figure size 432x288 with 1 Axes>"
      ]
     },
     "metadata": {},
     "output_type": "display_data"
    }
   ],
   "source": [
    "# Plot observed and predicted prices for WASDE release dates and non-WASDE release dates\n",
    "plt.scatter(actual, forecasts, color='b', label='Non-WASDE Release Date', s=8)\n",
    "plt.scatter(prices['Observed'], prices['LSTM'], label='WASDE Release Date', s=8, color='r')\n",
    "# plot 45 degree reference line\n",
    "plt.plot(range(300,520), range(300,520), label='Reference line (45 degrees)', color='g', linestyle='--')\n",
    "plt.xlabel('Observed Price')\n",
    "plt.ylabel('Predicted Price')\n",
    "plt.legend(frameon=True)\n",
    "plt.tight_layout()\n",
    "plt.savefig('Graphics/Quantile_Plot.png', dpi=600, bbox_inches='tight')\n",
    "print(\"Trend line: y = %.2f + %.2f*x\" % (z[1],z[0]))"
   ]
  },
  {
   "cell_type": "markdown",
   "metadata": {},
   "source": [
    "We want to check if there is any seasonality or trend present in the residuals, that suggest that our results are not robust."
   ]
  },
  {
   "cell_type": "code",
   "execution_count": 56,
   "metadata": {},
   "outputs": [
    {
     "data": {
      "image/png": "[encoded data removed]",
      "text/plain": [
       "<Figure size 432x288 with 1 Axes>"
      ]
     },
     "metadata": {},
     "output_type": "display_data"
    }
   ],
   "source": [
    "# QQPlot to check if residuals are normally distributed (no seasonality and trend in error)\n",
    "fig = sm.qqplot(data=residuals, line='r')\n",
    "plt.tight_layout()\n",
    "plt.savefig('Graphics/QQPlot_Residuals.png', dpi=600, bbox_inches='tight')"
   ]
  },
  {
   "cell_type": "markdown",
   "metadata": {},
   "source": [
    "The Quantile-Quantile Plot shows that the distribution is seemingly normal with a few bumps and outliers. Thus, no trend and seasonality can be observed in the residuals."
   ]
  },
  {
   "cell_type": "markdown",
   "metadata": {},
   "source": [
    "## 3. Comparison"
   ]
  },
  {
   "cell_type": "code",
   "execution_count": 57,
   "metadata": {
    "scrolled": true
   },
   "outputs": [
    {
     "data": {
      "image/png": "[encoded data removed]",
      "text/plain": [
       "<Figure size 432x288 with 1 Axes>"
      ]
     },
     "metadata": {},
     "output_type": "display_data"
    }
   ],
   "source": [
    "# Compare different algorithms across all forecast periods (Random Forest and SVR results can be commented in)\n",
    "plt.plot(range(1,31), rmse_pred, label='RMSE LSTM', color='blue', linestyle='--')\n",
    "plt.plot(range(1,31), rmse_pred_lin, label='RMSE Linear Reg.', color='blue')\n",
    "plt.plot(range(1,31), RMSE_sar, label='RMSE Benchmark', color='blue', linestyle=':')\n",
    "# plt.plot(range(1,31), RMSE_rf, label='RMSE Random Forest', color='blue', linestyle='--')\n",
    "# plt.plot(range(1,31), RMSE_svr, label='RMSE SVR', color='blue', linestyle='-.')\n",
    "plt.plot(range(1,31), mae_pred, label='MAE LSTM', color='red', linestyle='--')\n",
    "plt.plot(range(1,31), mae_pred_lin, label='MAE Linear Reg.', color='red')\n",
    "plt.plot(range(1,31), MAE_sar, label='MAE Benchmark', linestyle=':', color='red')\n",
    "# plt.plot(range(1,31), MAE_rf, label='MAE Random Forest', linestyle='--', color='red')\n",
    "# plt.plot(range(1,31), MAE_svr, label='MAE SVR', linestyle='-.', color='red')\n",
    "plt.ylabel('Forecast error')\n",
    "#plt.xlabel('Forecast period (days)')\n",
    "plt.legend(frameon=True)\n",
    "plt.tight_layout()\n",
    "plt.savefig('Graphics/RMSE_MAE_30_Forecast.png', dpi=600, bbox_inches='tight')"
   ]
  },
  {
   "cell_type": "code",
   "execution_count": 58,
   "metadata": {
    "scrolled": true
   },
   "outputs": [
    {
     "data": {
      "image/png": "[encoded data removed]",
      "text/plain": [
       "<Figure size 432x288 with 1 Axes>"
      ]
     },
     "metadata": {},
     "output_type": "display_data"
    }
   ],
   "source": [
    "# Compare different algorithms across all forecast periods (Random Forest and SVR results can be commented in)\n",
    "plt.plot(range(1,31), R2_pred, label='LSTM', color='green', linestyle='--')\n",
    "plt.plot(range(1,31), R2_pred_lin, label='Linear Reg.', color='green', linestyle='-')\n",
    "plt.plot(range(1,31), R2_sar, label='Benchmark', color='green', linestyle=':')\n",
    "# plt.plot(range(1,31), R2_rf, label='Random Forest', linestyle='--', color='green')\n",
    "# plt.plot(range(1,31), R2_svr, label='SVR', linestyle='-.', color='green')\n",
    "plt.ylabel('Adjusted R^2')\n",
    "plt.xlabel('Forecast period (days)')\n",
    "plt.legend(frameon=True)\n",
    "plt.tight_layout()\n",
    "plt.savefig('Graphics/R2_30_Forecast.png', dpi=600, bbox_inches='tight')"
   ]
  },
  {
   "cell_type": "markdown",
   "metadata": {},
   "source": [
    "## 4. Feature Selection"
   ]
  },
  {
   "cell_type": "code",
   "execution_count": 59,
   "metadata": {},
   "outputs": [
    {
     "name": "stdout",
     "output_type": "stream",
     "text": [
      "Total number of input features (in reframed): 360\n"
     ]
    }
   ],
   "source": [
    "# Parameter selection\n",
    "file = 'Data/Preprocessed_Data/AC_Combined_Model_2001_2018.csv'\n",
    "df = read_dataframe(file)\n",
    "n_test = len(df)- df.index.get_loc('2014-01-02')\n",
    "n_features = 8\n",
    "forecast_period = 1\n",
    "print('Total number of input features (in reframed):', lag_days*n_features)"
   ]
  },
  {
   "cell_type": "markdown",
   "metadata": {},
   "source": [
    "### 4.1 Optimal Lag Days"
   ]
  },
  {
   "cell_type": "markdown",
   "metadata": {},
   "source": [
    "Find optimal number of lag days by runing the Random Forest algorithm for up to 50 lag days (50 lag days * 8 variables = 400 features). Exclusive the SARIMA predictions."
   ]
  },
  {
   "cell_type": "code",
   "execution_count": 60,
   "metadata": {},
   "outputs": [],
   "source": [
    "# Parameter selection: lagged days\n",
    "lag = range(1, 51)"
   ]
  },
  {
   "cell_type": "code",
   "execution_count": 61,
   "metadata": {
    "scrolled": false
   },
   "outputs": [
    {
     "name": "stdout",
     "output_type": "stream",
     "text": [
      "Features selected = 1\n",
      "Features selected = 2\n",
      "Features selected = 3\n",
      "Features selected = 4\n",
      "Features selected = 5\n",
      "Features selected = 6\n",
      "Features selected = 7\n",
      "Features selected = 8\n",
      "Features selected = 9\n",
      "Features selected = 10\n",
      "Features selected = 11\n",
      "Features selected = 12\n",
      "Features selected = 13\n",
      "Features selected = 14\n",
      "Features selected = 15\n",
      "Features selected = 16\n",
      "Features selected = 17\n",
      "Features selected = 18\n",
      "Features selected = 19\n",
      "Features selected = 20\n",
      "Features selected = 21\n",
      "Features selected = 22\n",
      "Features selected = 23\n",
      "Features selected = 24\n",
      "Features selected = 25\n",
      "Features selected = 26\n",
      "Features selected = 27\n",
      "Features selected = 28\n",
      "Features selected = 29\n",
      "Features selected = 30\n",
      "Features selected = 31\n",
      "Features selected = 32\n",
      "Features selected = 33\n",
      "Features selected = 34\n",
      "Features selected = 35\n",
      "Features selected = 36\n",
      "Features selected = 37\n",
      "Features selected = 38\n",
      "Features selected = 39\n",
      "Features selected = 40\n",
      "Features selected = 41\n",
      "Features selected = 42\n",
      "Features selected = 43\n",
      "Features selected = 44\n",
      "Features selected = 45\n",
      "Features selected = 46\n",
      "Features selected = 47\n",
      "Features selected = 48\n",
      "Features selected = 49\n",
      "Features selected = 50\n",
      "\n",
      " --- 1204 total seconds ---\n",
      "--- 24 average seconds per round ---\n"
     ]
    }
   ],
   "source": [
    "start_time = time.time()\n",
    "score = list()\n",
    "for i in lag:\n",
    "    print('Features selected =', i)\n",
    "    lag_days = i\n",
    "    scaler, train, test, reframed = prepare_data(df,n_test,n_features,lag_days,forecast_period)\n",
    "    X_train, y_train = train[:, :-forecast_period], train[:, -forecast_period:]\n",
    "    X_test, y_test = test[:, :-forecast_period], test[:, -forecast_period:]\n",
    "    \n",
    "    pipe_rf = Pipeline([('regressor', RandomForestRegressor(random_state=5, criterion = 'mse', \n",
    "                                                            n_jobs=-1))])\n",
    "    \n",
    "    param_grid = {'regressor__n_estimators':      [1000],   \n",
    "                  'regressor__max_features':      ['sqrt'],\n",
    "                  'regressor__min_samples_leaf':  [20],     \n",
    "                  'regressor__min_samples_split': [10]}\n",
    "    \n",
    "    kFold = KFold(n_splits=5, random_state=0)\n",
    "    grid = GridSearchCV(pipe_rf, param_grid, scoring='neg_mean_squared_error', n_jobs=-1,\n",
    "                        cv=kFold, return_train_score=True)\n",
    "    grid.fit(X_train, y_train)\n",
    "    \n",
    "    # Make predictions with Random Forest algorithm\n",
    "    forecasts = grid.best_estimator_.predict(X_test)\n",
    "    actual = [row[-forecast_period:] for row in test]\n",
    "    # Undifferencing, unscaling for predicted & actual prices\n",
    "    rmse_pred, R2_pred, mae_pred, forecasts_inv, actual_inv = evaluation_RMSE(df, \n",
    "            actual, forecasts, train, test, scaler, n_test, i, forecast_period, n_features)\n",
    "    score.append(rmse_pred)\n",
    "print('\\n', '--- {:.0f} total seconds ---'.format(time.time() - start_time))\n",
    "print('--- {:.0f} average seconds per round ---'.format((time.time() - start_time)/lag_days))"
   ]
  },
  {
   "cell_type": "code",
   "execution_count": 62,
   "metadata": {
    "scrolled": true
   },
   "outputs": [
    {
     "data": {
      "image/png": "[encoded data removed]",
      "text/plain": [
       "<Figure size 432x288 with 1 Axes>"
      ]
     },
     "metadata": {},
     "output_type": "display_data"
    }
   ],
   "source": [
    "plt.plot(lag, score)\n",
    "plt.xlabel('Number of lag days')\n",
    "plt.ylabel('Forecast Error')\n",
    "plt.savefig('Graphics/Lag_Day_Selection.png',dpi=600, bbox_inches='tight')"
   ]
  },
  {
   "cell_type": "markdown",
   "metadata": {},
   "source": [
    "Lowest forecast error with 45 lag days. Thus, 45 lag days is used for training the algorithms."
   ]
  },
  {
   "cell_type": "markdown",
   "metadata": {},
   "source": [
    "### 4.2 Feature Importance"
   ]
  },
  {
   "cell_type": "code",
   "execution_count": 63,
   "metadata": {},
   "outputs": [],
   "source": [
    "#-----------------------------------------------------------------\n",
    "# PARAMETER SELECTION\n",
    "lag_days = 45\n",
    "#-----------------------------------------------------------------"
   ]
  },
  {
   "cell_type": "code",
   "execution_count": 64,
   "metadata": {},
   "outputs": [
    {
     "name": "stdout",
     "output_type": "stream",
     "text": [
      "Training size: 3208\n",
      "Test size: 1249\n"
     ]
    }
   ],
   "source": [
    "scaler, train, test, reframed = prepare_data(df, n_test, n_features, lag_days, forecast_period)\n",
    "print('Training size:', len(train))\n",
    "print('Test size:', len(test))\n",
    "X_train, y_train = train[:, :-forecast_period], train[:, -forecast_period:]\n",
    "X_test, y_test = test[:, :-forecast_period], test[:, -forecast_period:]"
   ]
  },
  {
   "cell_type": "code",
   "execution_count": 65,
   "metadata": {},
   "outputs": [
    {
     "data": {
      "text/plain": [
       "Index(['var2(t-45)', 'var3(t-45)', 'var4(t-45)', 'var5(t-45)', 'var6(t-45)',\n",
       "       'var7(t-45)', 'var8(t-45)', 'var9(t-45)', 'var2(t-44)', 'var3(t-44)',\n",
       "       ...\n",
       "       'var9(t-2)', 'var2(t-1)', 'var3(t-1)', 'var4(t-1)', 'var5(t-1)',\n",
       "       'var6(t-1)', 'var7(t-1)', 'var8(t-1)', 'var9(t-1)', 'var1(t)'],\n",
       "      dtype='object', length=361)"
      ]
     },
     "execution_count": 65,
     "metadata": {},
     "output_type": "execute_result"
    }
   ],
   "source": [
    "reframed.columns # for debugging"
   ]
  },
  {
   "cell_type": "code",
   "execution_count": 66,
   "metadata": {},
   "outputs": [
    {
     "data": {
      "text/plain": [
       "RandomForestRegressor(bootstrap=True, ccp_alpha=0.0, criterion='mse',\n",
       "                      max_depth=None, max_features='sqrt', max_leaf_nodes=None,\n",
       "                      max_samples=None, min_impurity_decrease=0.0,\n",
       "                      min_impurity_split=None, min_samples_leaf=20,\n",
       "                      min_samples_split=10, min_weight_fraction_leaf=0.0,\n",
       "                      n_estimators=1000, n_jobs=-1, oob_score=False,\n",
       "                      random_state=1, verbose=0, warm_start=False)"
      ]
     },
     "execution_count": 66,
     "metadata": {},
     "output_type": "execute_result"
    }
   ],
   "source": [
    "model = RandomForestRegressor(random_state=1, n_estimators=1000, max_features='sqrt', \n",
    "                        min_samples_leaf=20, min_samples_split=10, n_jobs=-1, criterion='mse')\n",
    "model.fit(X_train,y_train)"
   ]
  },
  {
   "cell_type": "code",
   "execution_count": 67,
   "metadata": {
    "scrolled": false
   },
   "outputs": [
    {
     "data": {
      "text/plain": [
       "var7(t-41)    0.822896\n",
       "var7(t-11)    0.793300\n",
       "var7(t-4)     0.778990\n",
       "var7(t-15)    0.769709\n",
       "var7(t-20)    0.706681\n",
       "var7(t-38)    0.691060\n",
       "var7(t-34)    0.688563\n",
       "var7(t-37)    0.653308\n",
       "var7(t-1)     0.626176\n",
       "var7(t-28)    0.615798\n",
       "dtype: float64"
      ]
     },
     "execution_count": 67,
     "metadata": {},
     "output_type": "execute_result"
    }
   ],
   "source": [
    "importances = model.feature_importances_\n",
    "names = reframed.columns.values[:-forecast_period]\n",
    "important_features = pd.Series(data=importances*100,index=names)\n",
    "important_features.sort_values(ascending=False,inplace=True)\n",
    "important_features.head(10)"
   ]
  },
  {
   "cell_type": "code",
   "execution_count": 68,
   "metadata": {},
   "outputs": [
    {
     "data": {
      "text/html": [
       "<div>\n",
       "<style scoped>\n",
       "    .dataframe tbody tr th:only-of-type {\n",
       "        vertical-align: middle;\n",
       "    }\n",
       "\n",
       "    .dataframe tbody tr th {\n",
       "        vertical-align: top;\n",
       "    }\n",
       "\n",
       "    .dataframe thead th {\n",
       "        text-align: right;\n",
       "    }\n",
       "</style>\n",
       "<table border=\"1\" class=\"dataframe\">\n",
       "  <thead>\n",
       "    <tr style=\"text-align: right;\">\n",
       "      <th></th>\n",
       "      <th>Price</th>\n",
       "      <th>Yield18</th>\n",
       "      <th>Yield7</th>\n",
       "      <th>AGB18</th>\n",
       "      <th>AGB7</th>\n",
       "      <th>NDVI18</th>\n",
       "      <th>precipitation18</th>\n",
       "      <th>tmax18</th>\n",
       "      <th>tmin18</th>\n",
       "    </tr>\n",
       "    <tr>\n",
       "      <th>Date</th>\n",
       "      <th></th>\n",
       "      <th></th>\n",
       "      <th></th>\n",
       "      <th></th>\n",
       "      <th></th>\n",
       "      <th></th>\n",
       "      <th></th>\n",
       "      <th></th>\n",
       "      <th></th>\n",
       "    </tr>\n",
       "  </thead>\n",
       "  <tbody>\n",
       "    <tr>\n",
       "      <th>2001-01-30</th>\n",
       "      <td>209.25</td>\n",
       "      <td>7.260893</td>\n",
       "      <td>7.417578</td>\n",
       "      <td>15.18194</td>\n",
       "      <td>15.83152</td>\n",
       "      <td>0.356333</td>\n",
       "      <td>1.922475</td>\n",
       "      <td>0.998079</td>\n",
       "      <td>-8.752397</td>\n",
       "    </tr>\n",
       "  </tbody>\n",
       "</table>\n",
       "</div>"
      ],
      "text/plain": [
       "             Price   Yield18    Yield7     AGB18      AGB7    NDVI18  \\\n",
       "Date                                                                   \n",
       "2001-01-30  209.25  7.260893  7.417578  15.18194  15.83152  0.356333   \n",
       "\n",
       "            precipitation18    tmax18    tmin18  \n",
       "Date                                             \n",
       "2001-01-30         1.922475  0.998079 -8.752397  "
      ]
     },
     "execution_count": 68,
     "metadata": {},
     "output_type": "execute_result"
    }
   ],
   "source": [
    "df.head(1)"
   ]
  },
  {
   "cell_type": "markdown",
   "metadata": {},
   "source": [
    "var7 = precipitatio18, thus I looks like without including the SARIMA predictions, the precipitation data is the most influential on the corn price."
   ]
  },
  {
   "cell_type": "markdown",
   "metadata": {},
   "source": [
    "### Acknowledgements"
   ]
  },
  {
   "cell_type": "markdown",
   "metadata": {},
   "source": [
    "Foremost, I would like to express my sincere gratitude to my external supervisors, Benjamin Zimmermann and Dr. sc. Stefanos Mystakidis, for their continuous support during my Bachelor thesis, for their patience, motivation, and immense knowledge about the corn market. Their guidance helped me during the research, coding, and writing of this thesis. I could not have imagined having better supervisors and mentors for this study. <br>\n",
    "Besides my external supervisors, I wish to extend my special thanks to my colleague Dr. Anastasis Kratsios and my flatmate Victor Staartjes who helped me brainstorm for the machine learning part of my thesis. Their assistance is greatly appreciated."
   ]
  },
  {
   "cell_type": "code",
   "execution_count": null,
   "metadata": {},
   "outputs": [],
   "source": []
  }
 ],
 "metadata": {
  "kernelspec": {
   "display_name": "Python 3 (ipykernel)",
   "language": "python",
   "name": "python3"
  },
  "language_info": {
   "codemirror_mode": {
    "name": "ipython",
    "version": 3
   },
   "file_extension": ".py",
   "mimetype": "text/x-python",
   "name": "python",
   "nbconvert_exporter": "python",
   "pygments_lexer": "ipython3",
   "version": "3.7.11"
  }
 },
 "nbformat": 4,
 "nbformat_minor": 2
}
