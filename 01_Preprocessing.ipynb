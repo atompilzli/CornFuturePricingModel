{
 "cells": [
  {
   "cell_type": "markdown",
   "metadata": {},
   "source": [
    "# Prediction of U.S. Corn Future Prices using Machine Learning - Preprocessing"
   ]
  },
  {
   "cell_type": "markdown",
   "metadata": {},
   "source": [
    "Table of Contents: <br>\n",
    "1. Data Preprocessing<br>\n",
    "    1.1 Corn Future Prices <br>\n",
    "    1.2 Climate Data <br>\n",
    "    1.3 CGM Output Data <br>\n",
    "    1.4 NDVI Data <br>\n",
    "2. Merging Data <br>\n",
    "    2.1 CGM Dataset <br>\n",
    "    2.2 Combined Dataset <br>\n",
    "    2.3 Separate Dataset <br>"
   ]
  },
  {
   "cell_type": "code",
   "execution_count": 1,
   "metadata": {},
   "outputs": [],
   "source": [
    "# # LIBRARY INSTALLATION:\n",
    "# import sys\n",
    "\n",
    "# !{sys.executable} -m pip install tensorflow\n",
    "# !{sys.executable} -m pip install keras\n",
    "# !{sys.executable} -m pip install statsmodels\n",
    "# !{sys.executable} -m pip install scikit-learn\n",
    "# !{sys.executable} -m pip install pandas\n",
    "# !{sys.executable} -m pip install matplotlib\n",
    "# !{sys.executable} -m pip install xlrd"
   ]
  },
  {
   "cell_type": "code",
   "execution_count": 2,
   "metadata": {},
   "outputs": [],
   "source": [
    "# Importing useful packages\n",
    "import numpy as np\n",
    "import pandas as pd\n",
    "import matplotlib.pyplot as plt\n",
    "from matplotlib import style, rcParams\n",
    "import datetime\n",
    "import warnings\n",
    "from platform import python_version\n",
    "import os\n",
    "\n",
    "# Importing self-written module\n",
    "%run AA_Functions.ipynb"
   ]
  },
  {
   "cell_type": "code",
   "execution_count": 3,
   "metadata": {},
   "outputs": [
    {
     "name": "stdout",
     "output_type": "stream",
     "text": [
      "Current Directory: C:\\Users\\nickb\\Dropbox\\Bachelorarbeit\\Bischofberger_Nick_BA\\Code\n"
     ]
    }
   ],
   "source": [
    "print('Current Directory:', os.getcwd()) # all documents should be under this directory\n",
    "warnings.filterwarnings(\"ignore\") # suppress all warnings, can be commented out\n",
    "style.use('seaborn-whitegrid') # set plot style\n",
    "rcParams.update({'font.size': 10}) # set plot font size"
   ]
  },
  {
   "cell_type": "markdown",
   "metadata": {},
   "source": [
    "## 1. Data Preprocessing"
   ]
  },
  {
   "cell_type": "markdown",
   "metadata": {},
   "source": [
    "### 1.1 Corn Future Prices"
   ]
  },
  {
   "cell_type": "code",
   "execution_count": 4,
   "metadata": {
    "scrolled": false
   },
   "outputs": [
    {
     "name": "stdout",
     "output_type": "stream",
     "text": [
      "Missing values BEFORE dropping NaN: 24\n",
      "Missing values AFTER dropping NaN: 0\n",
      "Count of closing price data: 5247\n"
     ]
    }
   ],
   "source": [
    "# Importing price data with dates as index\n",
    "df_C1 = pd.read_csv('Data/01_Corn_Futures_Price_C1_1999_2019.csv', parse_dates=True, index_col=0)\n",
    "# Extract closing price\n",
    "df_last = df_C1[['PX_Last']]\n",
    "# Sort by dates/index\n",
    "df_last.sort_index(inplace=True, ascending=True)\n",
    "# Drop NaN values in PX_Last column: 24 missing values are dropped, because only few NaN\n",
    "print('Missing values BEFORE dropping NaN:', df_last['PX_Last'].isnull().sum())\n",
    "df_last.dropna(inplace=True) \n",
    "print('Missing values AFTER dropping NaN:', df_last['PX_Last'].isnull().sum())\n",
    "print('Count of closing price data:', df_last.shape[0])"
   ]
  },
  {
   "cell_type": "code",
   "execution_count": 5,
   "metadata": {},
   "outputs": [
    {
     "data": {
      "image/png": "[encoded data removed]",
      "text/plain": [
       "<Figure size 432x288 with 1 Axes>"
      ]
     },
     "metadata": {},
     "output_type": "display_data"
    }
   ],
   "source": [
    "# Plot trajectory of corn futures price\n",
    "plt.plot(df_last,linewidth=1)\n",
    "plt.ylabel('Price')\n",
    "plt.savefig('Graphics/Corn_Price_2001_2018.png', dpi=1000, bbox_inches='tight')"
   ]
  },
  {
   "cell_type": "markdown",
   "metadata": {},
   "source": [
    "### 1.2 Climate Data"
   ]
  },
  {
   "cell_type": "code",
   "execution_count": 6,
   "metadata": {},
   "outputs": [],
   "source": [
    "# Import precipitation data by state\n",
    "precipitation = pd.read_excel('Data/05_Precipitation_2000_2018.xlsx', header=0)\n",
    "# Import max. temperature data by state\n",
    "tmax = pd.read_excel('Data/06_Tmax_2000_2018.xlsx', header=0)\n",
    "# Import min. temperature data by state\n",
    "tmin = pd.read_excel('Data/07_Tmin_2000_2018.xlsx', header=0)\n",
    "# State production values (ordered alphabatically)\n",
    "production = pd.read_csv('Data/AA_Production_2018_18States.csv')"
   ]
  },
  {
   "cell_type": "code",
   "execution_count": 7,
   "metadata": {},
   "outputs": [],
   "source": [
    "# Extract corn production values from file for all 18 states \n",
    "prod_values = production[['Value']].values.tolist()\n",
    "prod_values = [item for sublist in prod_values for item in sublist]\n",
    "prod_sum = np.array(prod_values).sum()\n",
    "prod_values = [i/prod_sum for i in prod_values] #dividing values by 1'000'000 for better overview"
   ]
  },
  {
   "cell_type": "code",
   "execution_count": 8,
   "metadata": {},
   "outputs": [],
   "source": [
    "# Weight precipitation by production values of 2018\n",
    "prec_mul = precipitation.multiply(prod_values)\n",
    "tmax_mul = tmax.multiply(prod_values)\n",
    "tmin_mul = tmin.multiply(prod_values)\n",
    "# Calculate weighted average for all 18 states\n",
    "prec_mul['weighted_average'] = prec_mul.sum(axis=1)\n",
    "tmax_mul['weighted_average'] = tmax_mul.sum(axis=1)\n",
    "tmin_mul['weighted_average'] = tmin_mul.sum(axis=1)\n",
    "# Extract weighted average column\n",
    "prec = prec_mul[['weighted_average']]\n",
    "tmax = tmax_mul[['weighted_average']]\n",
    "tmin = tmin_mul[['weighted_average']]"
   ]
  },
  {
   "cell_type": "code",
   "execution_count": 9,
   "metadata": {},
   "outputs": [],
   "source": [
    "# Create date column\n",
    "start = datetime.datetime.strptime(\"2000-01-01\", \"%Y-%m-%d\")\n",
    "end = datetime.datetime.strptime(\"2019-01-01\", \"%Y-%m-%d\")\n",
    "date_generated = [start + datetime.timedelta(days=x) for x in range(0, (end-start).days)]\n",
    "dates = pd.DataFrame(date_generated)"
   ]
  },
  {
   "cell_type": "code",
   "execution_count": 10,
   "metadata": {},
   "outputs": [],
   "source": [
    "# Remove all 29th of February, because they are also deleted in the climate dataset\n",
    "for i in range(2000, 2019, 4):\n",
    "    dates = dates[dates[0] != '{0:}-02-29'.format(str(i))]"
   ]
  },
  {
   "cell_type": "code",
   "execution_count": 11,
   "metadata": {},
   "outputs": [],
   "source": [
    "# Add dates to weighted average data\n",
    "climate_data = pd.concat([prec.reset_index(drop=True), dates.reset_index(drop=True)], axis= 1)\n",
    "climate_data['tmax18'] = tmax\n",
    "climate_data['tmin18'] = tmin"
   ]
  },
  {
   "cell_type": "code",
   "execution_count": 12,
   "metadata": {},
   "outputs": [],
   "source": [
    "# Rename columns\n",
    "climate_data.rename(columns={0:'Date', 'weighted_average':'precipitation18'}, inplace=True)\n",
    "# Set date as index\n",
    "climate_data.set_index('Date', inplace=True)"
   ]
  },
  {
   "cell_type": "code",
   "execution_count": 13,
   "metadata": {},
   "outputs": [
    {
     "name": "stdout",
     "output_type": "stream",
     "text": [
      "Missing values: 30\n"
     ]
    }
   ],
   "source": [
    "# Shift all climate data by 10 days\n",
    "climate_data = climate_data.shift(-10, axis=0)\n",
    "print(\"Missing values:\", climate_data.isnull().sum().sum())\n",
    "climate_data.dropna(inplace=True)"
   ]
  },
  {
   "cell_type": "code",
   "execution_count": 14,
   "metadata": {},
   "outputs": [],
   "source": [
    "# Calculate moving average of climate data for more robustness. Then drop na\n",
    "climate_MA = climate_data.rolling(window=30).mean()\n",
    "climate_MA.dropna(inplace=True)"
   ]
  },
  {
   "cell_type": "code",
   "execution_count": 15,
   "metadata": {},
   "outputs": [],
   "source": [
    "# Export data as CSV for debugging\n",
    "climate_MA.to_csv(path_or_buf='Data/Preprocessed_Data/03_Climate_Variables_2001_2018.csv')"
   ]
  },
  {
   "cell_type": "markdown",
   "metadata": {},
   "source": [
    "### 1.3 CGM Output Data"
   ]
  },
  {
   "cell_type": "markdown",
   "metadata": {},
   "source": [
    "Data provied by Stefanos Mystakidis as part of the CGM output. <br> <br>\n",
    "7 States  = Illinois, Indiana, Kansas, Nebraska, Kentucky, Tennessee, Missouri <br>\n",
    "18 States = 7 States + Iowa, Minnesota, Michigan, Wisconsin, South Dakota, Oklahoma, Arkansas, North Carolina, Virginia, West Virginia, Ohio"
   ]
  },
  {
   "cell_type": "code",
   "execution_count": 16,
   "metadata": {},
   "outputs": [],
   "source": [
    "# Importing Yield and AGB Data for 7 States Average: \n",
    "xls1 = pd.ExcelFile('Data/03_Yield_AGB_2001_2018_7States.xlsx')\n",
    "yield7 = pd.read_excel(xls1, 'Yield (tonnes per ha) 7States', index_col=0, parse_dates=True)\n",
    "agb7 = pd.read_excel(xls1, 'AGB (tonnes per ha) 7States', index_col=0, parse_dates=True)"
   ]
  },
  {
   "cell_type": "code",
   "execution_count": 17,
   "metadata": {},
   "outputs": [],
   "source": [
    "# Importing Yield and AGB Data for 18 States Average: \n",
    "xls2 = pd.ExcelFile('Data/02_Yield_AGB_2001_2018_18States.xlsx')\n",
    "yield18 = pd.read_excel(xls2, 'Yield (tonnes per ha) WholeDoma',index_col=0, parse_dates=True)\n",
    "agb18 = pd.read_excel(xls2, 'AGB (tonnes per ha) WholeDomain', index_col=0, parse_dates=True)"
   ]
  },
  {
   "cell_type": "markdown",
   "metadata": {},
   "source": [
    "Rearrange all 4 data subset as 1 column, then set date as index"
   ]
  },
  {
   "cell_type": "code",
   "execution_count": 18,
   "metadata": {},
   "outputs": [],
   "source": [
    "# Apply function to all data subsets\n",
    "yield7 = yield_agb_arranger(data=yield7, name='Yield7')\n",
    "agb7 = yield_agb_arranger(data=agb7, name='AGB7')\n",
    "yield18 = yield_agb_arranger(data=yield18, name='Yield18')\n",
    "agb18 = yield_agb_arranger(data=agb18, name='AGB18')"
   ]
  },
  {
   "cell_type": "code",
   "execution_count": 19,
   "metadata": {},
   "outputs": [],
   "source": [
    "# Merge all data subsets into one DataFrame\n",
    "df_yield = pd.merge(yield18, yield7,how='outer', on='Date')\n",
    "df_agb = pd.merge(agb18, agb7, how='outer', on='Date')\n",
    "df_ya = pd.merge(df_yield, df_agb, how='outer', on = 'Date')"
   ]
  },
  {
   "cell_type": "code",
   "execution_count": 20,
   "metadata": {},
   "outputs": [],
   "source": [
    "# Shift data by 14 days\n",
    "df_ya_shift = df_ya.shift(-14, axis=0)\n",
    "df_ya_shift.dropna(inplace=True)# for debugging"
   ]
  },
  {
   "cell_type": "code",
   "execution_count": 21,
   "metadata": {},
   "outputs": [],
   "source": [
    "# Save merged yield and AGB data as CSV\n",
    "df_ya_shift.to_csv(path_or_buf='Data/Preprocessed_Data/01_Yield_AGB_2001_2018.csv')"
   ]
  },
  {
   "cell_type": "markdown",
   "metadata": {},
   "source": [
    "### 1.4 NDVI Data"
   ]
  },
  {
   "cell_type": "markdown",
   "metadata": {},
   "source": [
    "NDVI data downloaded from https://glam1.gsfc.nasa.gov/. Accessed: 22/01/2020 <br>\n",
    "The NDVI for an 18-state average is used. <br>\n",
    "States are the same as in Yield18 and AGB18."
   ]
  },
  {
   "cell_type": "code",
   "execution_count": 22,
   "metadata": {},
   "outputs": [],
   "source": [
    "# Load NDVI data, set date as index and sort index\n",
    "df_ndvi = pd.read_csv('Data/04_NDVI_2001_2018.csv', header=15)\n",
    "df_ndvi['Date'] = pd.to_datetime(df_ndvi['START DATE'])\n",
    "df_ndvi.set_index('Date', inplace=True)\n",
    "df_ndvi.sort_index(inplace=True)\n",
    "# Get relevant columns\n",
    "ndvi = df_ndvi[['MEAN VALUE', 'MIN VALUE', 'MAX VALUE']]"
   ]
  },
  {
   "cell_type": "code",
   "execution_count": 23,
   "metadata": {},
   "outputs": [],
   "source": [
    "# Create column for replication of each NDVI value\n",
    "# Normally every NDVI value is repeated 8 times, because data is \n",
    "# provided as 8 day-average and we need daily data\n",
    "ndvi['RTimes'] = 8\n",
    "# At the end of every year (last days of Dec) only 5 day-averages are taken\n",
    "ndvi.iat[45,3] = 5\n",
    "for i in range(2, 19):\n",
    "    ndvi.iat[46*i-1,3] = 5\n",
    "# In leap years, at the end of every year only 6 day-averages are taken\n",
    "for i in range(4,20,4):\n",
    "    ndvi.iat[i*46-1,3] = 6\n",
    "# Now replicate the date with the RTimes column value\n",
    "ndvi_rep = ndvi.loc[ndvi.index.repeat(ndvi.RTimes)]"
   ]
  },
  {
   "cell_type": "code",
   "execution_count": 24,
   "metadata": {},
   "outputs": [],
   "source": [
    "# Add correct dates to NDVI data: from 2001-01-01 to 2018-12-31\n",
    "start = datetime.datetime.strptime(\"2001-01-01\", \"%Y-%m-%d\")\n",
    "end = datetime.datetime.strptime(\"2019-01-01\", \"%Y-%m-%d\")\n",
    "date_generated = [start + datetime.timedelta(days=x) for x in range(0, (end-start).days)]\n",
    "dates = pd.DataFrame(date_generated)\n",
    "ndvi = pd.concat([ndvi_rep.reset_index(drop=True), dates.reset_index(drop=True)], axis= 1)\n",
    "# Rename columns\n",
    "ndvi.rename(columns={0:'Date', 'MEAN VALUE':'NDVI18'}, inplace=True)\n",
    "# Set date as index\n",
    "ndvi.set_index('Date', inplace=True)"
   ]
  },
  {
   "cell_type": "code",
   "execution_count": 25,
   "metadata": {},
   "outputs": [],
   "source": [
    "# Calculate 30-day moving average\n",
    "ndvi = ndvi.rolling(window=30).mean()\n",
    "ndvi.dropna(inplace=True)\n",
    "ndvi = ndvi[['NDVI18']]"
   ]
  },
  {
   "cell_type": "code",
   "execution_count": 26,
   "metadata": {},
   "outputs": [
    {
     "data": {
      "text/html": [
       "<div>\n",
       "<style scoped>\n",
       "    .dataframe tbody tr th:only-of-type {\n",
       "        vertical-align: middle;\n",
       "    }\n",
       "\n",
       "    .dataframe tbody tr th {\n",
       "        vertical-align: top;\n",
       "    }\n",
       "\n",
       "    .dataframe thead th {\n",
       "        text-align: right;\n",
       "    }\n",
       "</style>\n",
       "<table border=\"1\" class=\"dataframe\">\n",
       "  <thead>\n",
       "    <tr style=\"text-align: right;\">\n",
       "      <th></th>\n",
       "      <th>NDVI18</th>\n",
       "    </tr>\n",
       "    <tr>\n",
       "      <th>Date</th>\n",
       "      <th></th>\n",
       "    </tr>\n",
       "  </thead>\n",
       "  <tbody>\n",
       "    <tr>\n",
       "      <th>2001-01-30</th>\n",
       "      <td>0.356333</td>\n",
       "    </tr>\n",
       "    <tr>\n",
       "      <th>2001-01-31</th>\n",
       "      <td>0.355667</td>\n",
       "    </tr>\n",
       "    <tr>\n",
       "      <th>2001-02-01</th>\n",
       "      <td>0.355000</td>\n",
       "    </tr>\n",
       "    <tr>\n",
       "      <th>2001-02-02</th>\n",
       "      <td>0.354200</td>\n",
       "    </tr>\n",
       "    <tr>\n",
       "      <th>2001-02-03</th>\n",
       "      <td>0.353400</td>\n",
       "    </tr>\n",
       "    <tr>\n",
       "      <th>...</th>\n",
       "      <td>...</td>\n",
       "    </tr>\n",
       "    <tr>\n",
       "      <th>2018-12-27</th>\n",
       "      <td>0.392700</td>\n",
       "    </tr>\n",
       "    <tr>\n",
       "      <th>2018-12-28</th>\n",
       "      <td>0.391667</td>\n",
       "    </tr>\n",
       "    <tr>\n",
       "      <th>2018-12-29</th>\n",
       "      <td>0.390633</td>\n",
       "    </tr>\n",
       "    <tr>\n",
       "      <th>2018-12-30</th>\n",
       "      <td>0.389600</td>\n",
       "    </tr>\n",
       "    <tr>\n",
       "      <th>2018-12-31</th>\n",
       "      <td>0.388567</td>\n",
       "    </tr>\n",
       "  </tbody>\n",
       "</table>\n",
       "<p>6545 rows × 1 columns</p>\n",
       "</div>"
      ],
      "text/plain": [
       "              NDVI18\n",
       "Date                \n",
       "2001-01-30  0.356333\n",
       "2001-01-31  0.355667\n",
       "2001-02-01  0.355000\n",
       "2001-02-02  0.354200\n",
       "2001-02-03  0.353400\n",
       "...              ...\n",
       "2018-12-27  0.392700\n",
       "2018-12-28  0.391667\n",
       "2018-12-29  0.390633\n",
       "2018-12-30  0.389600\n",
       "2018-12-31  0.388567\n",
       "\n",
       "[6545 rows x 1 columns]"
      ]
     },
     "execution_count": 26,
     "metadata": {},
     "output_type": "execute_result"
    }
   ],
   "source": [
    "ndvi # for debugging"
   ]
  },
  {
   "cell_type": "code",
   "execution_count": 27,
   "metadata": {},
   "outputs": [],
   "source": [
    "# Export data as CSV for debugging\n",
    "ndvi.to_csv(path_or_buf='Data/Preprocessed_Data/02_NDVI_2001_2018.csv')"
   ]
  },
  {
   "cell_type": "markdown",
   "metadata": {},
   "source": [
    "## 2. Merging Data"
   ]
  },
  {
   "cell_type": "markdown",
   "metadata": {},
   "source": [
    "### 2.1 CGM Dataset"
   ]
  },
  {
   "cell_type": "markdown",
   "metadata": {},
   "source": [
    "Merging Price with Yield & AGB dataset"
   ]
  },
  {
   "cell_type": "code",
   "execution_count": 28,
   "metadata": {},
   "outputs": [],
   "source": [
    "# Merge price with yield and AGB data on date/index;\n",
    "# only taking the inner values, because stock exchange is closed on some days\n",
    "df_pya = pd.merge(df_last, df_ya_shift, how='inner', on='Date')\n",
    "df_pya.rename(columns={'PX_Last': 'Price'},inplace=True)"
   ]
  },
  {
   "cell_type": "code",
   "execution_count": 29,
   "metadata": {
    "scrolled": true
   },
   "outputs": [
    {
     "name": "stdout",
     "output_type": "stream",
     "text": [
      "Missing value count: 0\n"
     ]
    }
   ],
   "source": [
    "# Checking for NaN values again, missing values are dropped, because only a few.\n",
    "print('Missing value count:',df_pya.isnull().sum().sum())"
   ]
  },
  {
   "cell_type": "markdown",
   "metadata": {},
   "source": [
    "Merging Price, Yield & AGB with NDVI dataset "
   ]
  },
  {
   "cell_type": "code",
   "execution_count": 30,
   "metadata": {},
   "outputs": [],
   "source": [
    "# Merge on date/index only taking the inner values\n",
    "df_pyan = pd.merge(df_pya, ndvi, how='inner', on='Date')"
   ]
  },
  {
   "cell_type": "code",
   "execution_count": 31,
   "metadata": {},
   "outputs": [
    {
     "data": {
      "text/html": [
       "<div>\n",
       "<style scoped>\n",
       "    .dataframe tbody tr th:only-of-type {\n",
       "        vertical-align: middle;\n",
       "    }\n",
       "\n",
       "    .dataframe tbody tr th {\n",
       "        vertical-align: top;\n",
       "    }\n",
       "\n",
       "    .dataframe thead th {\n",
       "        text-align: right;\n",
       "    }\n",
       "</style>\n",
       "<table border=\"1\" class=\"dataframe\">\n",
       "  <thead>\n",
       "    <tr style=\"text-align: right;\">\n",
       "      <th></th>\n",
       "      <th>Price</th>\n",
       "      <th>Yield18</th>\n",
       "      <th>Yield7</th>\n",
       "      <th>AGB18</th>\n",
       "      <th>AGB7</th>\n",
       "      <th>NDVI18</th>\n",
       "    </tr>\n",
       "    <tr>\n",
       "      <th>Date</th>\n",
       "      <th></th>\n",
       "      <th></th>\n",
       "      <th></th>\n",
       "      <th></th>\n",
       "      <th></th>\n",
       "      <th></th>\n",
       "    </tr>\n",
       "  </thead>\n",
       "  <tbody>\n",
       "    <tr>\n",
       "      <th>2001-01-30</th>\n",
       "      <td>209.25</td>\n",
       "      <td>7.260893</td>\n",
       "      <td>7.417578</td>\n",
       "      <td>15.18194</td>\n",
       "      <td>15.83152</td>\n",
       "      <td>0.356333</td>\n",
       "    </tr>\n",
       "    <tr>\n",
       "      <th>2001-01-31</th>\n",
       "      <td>209.00</td>\n",
       "      <td>7.260893</td>\n",
       "      <td>7.417578</td>\n",
       "      <td>15.18194</td>\n",
       "      <td>15.83152</td>\n",
       "      <td>0.355667</td>\n",
       "    </tr>\n",
       "    <tr>\n",
       "      <th>2001-02-01</th>\n",
       "      <td>211.00</td>\n",
       "      <td>7.260893</td>\n",
       "      <td>7.417578</td>\n",
       "      <td>15.18194</td>\n",
       "      <td>15.83152</td>\n",
       "      <td>0.355000</td>\n",
       "    </tr>\n",
       "    <tr>\n",
       "      <th>2001-02-02</th>\n",
       "      <td>213.00</td>\n",
       "      <td>7.260893</td>\n",
       "      <td>7.417578</td>\n",
       "      <td>15.18194</td>\n",
       "      <td>15.83152</td>\n",
       "      <td>0.354200</td>\n",
       "    </tr>\n",
       "    <tr>\n",
       "      <th>2001-02-05</th>\n",
       "      <td>212.00</td>\n",
       "      <td>7.260893</td>\n",
       "      <td>7.417578</td>\n",
       "      <td>15.18194</td>\n",
       "      <td>15.83152</td>\n",
       "      <td>0.351800</td>\n",
       "    </tr>\n",
       "    <tr>\n",
       "      <th>...</th>\n",
       "      <td>...</td>\n",
       "      <td>...</td>\n",
       "      <td>...</td>\n",
       "      <td>...</td>\n",
       "      <td>...</td>\n",
       "      <td>...</td>\n",
       "    </tr>\n",
       "    <tr>\n",
       "      <th>2018-12-11</th>\n",
       "      <td>375.00</td>\n",
       "      <td>7.667130</td>\n",
       "      <td>6.798717</td>\n",
       "      <td>15.92238</td>\n",
       "      <td>14.89940</td>\n",
       "      <td>0.411033</td>\n",
       "    </tr>\n",
       "    <tr>\n",
       "      <th>2018-12-12</th>\n",
       "      <td>376.25</td>\n",
       "      <td>7.667130</td>\n",
       "      <td>6.798717</td>\n",
       "      <td>15.92238</td>\n",
       "      <td>14.89940</td>\n",
       "      <td>0.409600</td>\n",
       "    </tr>\n",
       "    <tr>\n",
       "      <th>2018-12-13</th>\n",
       "      <td>375.50</td>\n",
       "      <td>7.667130</td>\n",
       "      <td>6.798717</td>\n",
       "      <td>15.92238</td>\n",
       "      <td>14.89940</td>\n",
       "      <td>0.408167</td>\n",
       "    </tr>\n",
       "    <tr>\n",
       "      <th>2018-12-14</th>\n",
       "      <td>376.75</td>\n",
       "      <td>7.667130</td>\n",
       "      <td>6.798717</td>\n",
       "      <td>15.92238</td>\n",
       "      <td>14.89940</td>\n",
       "      <td>0.406733</td>\n",
       "    </tr>\n",
       "    <tr>\n",
       "      <th>2018-12-17</th>\n",
       "      <td>384.00</td>\n",
       "      <td>7.667130</td>\n",
       "      <td>6.798717</td>\n",
       "      <td>15.92238</td>\n",
       "      <td>14.89940</td>\n",
       "      <td>0.402967</td>\n",
       "    </tr>\n",
       "  </tbody>\n",
       "</table>\n",
       "<p>4506 rows × 6 columns</p>\n",
       "</div>"
      ],
      "text/plain": [
       "             Price   Yield18    Yield7     AGB18      AGB7    NDVI18\n",
       "Date                                                                \n",
       "2001-01-30  209.25  7.260893  7.417578  15.18194  15.83152  0.356333\n",
       "2001-01-31  209.00  7.260893  7.417578  15.18194  15.83152  0.355667\n",
       "2001-02-01  211.00  7.260893  7.417578  15.18194  15.83152  0.355000\n",
       "2001-02-02  213.00  7.260893  7.417578  15.18194  15.83152  0.354200\n",
       "2001-02-05  212.00  7.260893  7.417578  15.18194  15.83152  0.351800\n",
       "...            ...       ...       ...       ...       ...       ...\n",
       "2018-12-11  375.00  7.667130  6.798717  15.92238  14.89940  0.411033\n",
       "2018-12-12  376.25  7.667130  6.798717  15.92238  14.89940  0.409600\n",
       "2018-12-13  375.50  7.667130  6.798717  15.92238  14.89940  0.408167\n",
       "2018-12-14  376.75  7.667130  6.798717  15.92238  14.89940  0.406733\n",
       "2018-12-17  384.00  7.667130  6.798717  15.92238  14.89940  0.402967\n",
       "\n",
       "[4506 rows x 6 columns]"
      ]
     },
     "execution_count": 31,
     "metadata": {},
     "output_type": "execute_result"
    }
   ],
   "source": [
    "df_pyan"
   ]
  },
  {
   "cell_type": "code",
   "execution_count": 32,
   "metadata": {},
   "outputs": [],
   "source": [
    "# Export as CSV file for further use in \"2. Machine Learning.ipynb\"\n",
    "df_pyan.to_csv(path_or_buf='Data/Preprocessed_Data/AA_CGM_Model_2001_2018.csv')"
   ]
  },
  {
   "cell_type": "markdown",
   "metadata": {},
   "source": [
    "### 2.2 Combined Dataset"
   ]
  },
  {
   "cell_type": "code",
   "execution_count": 33,
   "metadata": {},
   "outputs": [],
   "source": [
    "# Combining all variables into one dataset\n",
    "df_pyanp = pd.merge(df_pyan, climate_MA, how='inner', on='Date') # All variables"
   ]
  },
  {
   "cell_type": "code",
   "execution_count": 34,
   "metadata": {},
   "outputs": [
    {
     "data": {
      "text/html": [
       "<div>\n",
       "<style scoped>\n",
       "    .dataframe tbody tr th:only-of-type {\n",
       "        vertical-align: middle;\n",
       "    }\n",
       "\n",
       "    .dataframe tbody tr th {\n",
       "        vertical-align: top;\n",
       "    }\n",
       "\n",
       "    .dataframe thead th {\n",
       "        text-align: right;\n",
       "    }\n",
       "</style>\n",
       "<table border=\"1\" class=\"dataframe\">\n",
       "  <thead>\n",
       "    <tr style=\"text-align: right;\">\n",
       "      <th></th>\n",
       "      <th>Price</th>\n",
       "      <th>Yield18</th>\n",
       "      <th>Yield7</th>\n",
       "      <th>AGB18</th>\n",
       "      <th>AGB7</th>\n",
       "      <th>NDVI18</th>\n",
       "      <th>precipitation18</th>\n",
       "      <th>tmax18</th>\n",
       "      <th>tmin18</th>\n",
       "    </tr>\n",
       "  </thead>\n",
       "  <tbody>\n",
       "    <tr>\n",
       "      <th>count</th>\n",
       "      <td>4503.000000</td>\n",
       "      <td>4503.000000</td>\n",
       "      <td>4503.000000</td>\n",
       "      <td>4503.000000</td>\n",
       "      <td>4503.000000</td>\n",
       "      <td>4503.000000</td>\n",
       "      <td>4503.000000</td>\n",
       "      <td>4503.000000</td>\n",
       "      <td>4503.000000</td>\n",
       "    </tr>\n",
       "    <tr>\n",
       "      <th>mean</th>\n",
       "      <td>385.401066</td>\n",
       "      <td>5.151423</td>\n",
       "      <td>4.984527</td>\n",
       "      <td>11.307588</td>\n",
       "      <td>11.115332</td>\n",
       "      <td>0.516271</td>\n",
       "      <td>2.672323</td>\n",
       "      <td>16.398831</td>\n",
       "      <td>4.473643</td>\n",
       "    </tr>\n",
       "    <tr>\n",
       "      <th>std</th>\n",
       "      <td>156.706211</td>\n",
       "      <td>3.491018</td>\n",
       "      <td>3.365100</td>\n",
       "      <td>6.418378</td>\n",
       "      <td>6.207356</td>\n",
       "      <td>0.141805</td>\n",
       "      <td>1.227452</td>\n",
       "      <td>10.521476</td>\n",
       "      <td>9.764159</td>\n",
       "    </tr>\n",
       "    <tr>\n",
       "      <th>min</th>\n",
       "      <td>184.500000</td>\n",
       "      <td>0.000000</td>\n",
       "      <td>0.000000</td>\n",
       "      <td>0.000000</td>\n",
       "      <td>0.000000</td>\n",
       "      <td>0.337067</td>\n",
       "      <td>0.299927</td>\n",
       "      <td>-4.734227</td>\n",
       "      <td>-16.257518</td>\n",
       "    </tr>\n",
       "    <tr>\n",
       "      <th>25%</th>\n",
       "      <td>243.000000</td>\n",
       "      <td>0.252509</td>\n",
       "      <td>0.275830</td>\n",
       "      <td>5.887119</td>\n",
       "      <td>6.832349</td>\n",
       "      <td>0.377733</td>\n",
       "      <td>1.701544</td>\n",
       "      <td>6.556096</td>\n",
       "      <td>-4.330638</td>\n",
       "    </tr>\n",
       "    <tr>\n",
       "      <th>50%</th>\n",
       "      <td>362.500000</td>\n",
       "      <td>6.990645</td>\n",
       "      <td>6.561862</td>\n",
       "      <td>14.881260</td>\n",
       "      <td>14.584940</td>\n",
       "      <td>0.493400</td>\n",
       "      <td>2.532084</td>\n",
       "      <td>18.132939</td>\n",
       "      <td>4.939066</td>\n",
       "    </tr>\n",
       "    <tr>\n",
       "      <th>75%</th>\n",
       "      <td>431.375000</td>\n",
       "      <td>8.028634</td>\n",
       "      <td>7.493155</td>\n",
       "      <td>16.004459</td>\n",
       "      <td>15.530450</td>\n",
       "      <td>0.658933</td>\n",
       "      <td>3.436631</td>\n",
       "      <td>26.464951</td>\n",
       "      <td>14.024826</td>\n",
       "    </tr>\n",
       "    <tr>\n",
       "      <th>max</th>\n",
       "      <td>831.250000</td>\n",
       "      <td>9.371599</td>\n",
       "      <td>9.320115</td>\n",
       "      <td>17.603029</td>\n",
       "      <td>17.345230</td>\n",
       "      <td>0.730333</td>\n",
       "      <td>7.164794</td>\n",
       "      <td>34.120102</td>\n",
       "      <td>20.650149</td>\n",
       "    </tr>\n",
       "  </tbody>\n",
       "</table>\n",
       "</div>"
      ],
      "text/plain": [
       "             Price      Yield18       Yield7        AGB18         AGB7  \\\n",
       "count  4503.000000  4503.000000  4503.000000  4503.000000  4503.000000   \n",
       "mean    385.401066     5.151423     4.984527    11.307588    11.115332   \n",
       "std     156.706211     3.491018     3.365100     6.418378     6.207356   \n",
       "min     184.500000     0.000000     0.000000     0.000000     0.000000   \n",
       "25%     243.000000     0.252509     0.275830     5.887119     6.832349   \n",
       "50%     362.500000     6.990645     6.561862    14.881260    14.584940   \n",
       "75%     431.375000     8.028634     7.493155    16.004459    15.530450   \n",
       "max     831.250000     9.371599     9.320115    17.603029    17.345230   \n",
       "\n",
       "            NDVI18  precipitation18       tmax18       tmin18  \n",
       "count  4503.000000      4503.000000  4503.000000  4503.000000  \n",
       "mean      0.516271         2.672323    16.398831     4.473643  \n",
       "std       0.141805         1.227452    10.521476     9.764159  \n",
       "min       0.337067         0.299927    -4.734227   -16.257518  \n",
       "25%       0.377733         1.701544     6.556096    -4.330638  \n",
       "50%       0.493400         2.532084    18.132939     4.939066  \n",
       "75%       0.658933         3.436631    26.464951    14.024826  \n",
       "max       0.730333         7.164794    34.120102    20.650149  "
      ]
     },
     "execution_count": 34,
     "metadata": {},
     "output_type": "execute_result"
    }
   ],
   "source": [
    "df_pyanp.describe()"
   ]
  },
  {
   "cell_type": "code",
   "execution_count": 35,
   "metadata": {},
   "outputs": [],
   "source": [
    "df_pyanp.to_csv(path_or_buf='Data/Preprocessed_Data/AC_Combined_Model_2001_2018.csv')"
   ]
  },
  {
   "cell_type": "markdown",
   "metadata": {},
   "source": [
    "### 2.3 Separate Dataset"
   ]
  },
  {
   "cell_type": "code",
   "execution_count": 36,
   "metadata": {},
   "outputs": [],
   "source": [
    "# No CGM dataset creation\n",
    "df_pnptt = df_pyanp[['Price', 'NDVI18', 'precipitation18', 'tmax18', 'tmin18']]"
   ]
  },
  {
   "cell_type": "code",
   "execution_count": 37,
   "metadata": {},
   "outputs": [
    {
     "data": {
      "text/html": [
       "<div>\n",
       "<style scoped>\n",
       "    .dataframe tbody tr th:only-of-type {\n",
       "        vertical-align: middle;\n",
       "    }\n",
       "\n",
       "    .dataframe tbody tr th {\n",
       "        vertical-align: top;\n",
       "    }\n",
       "\n",
       "    .dataframe thead th {\n",
       "        text-align: right;\n",
       "    }\n",
       "</style>\n",
       "<table border=\"1\" class=\"dataframe\">\n",
       "  <thead>\n",
       "    <tr style=\"text-align: right;\">\n",
       "      <th></th>\n",
       "      <th>Price</th>\n",
       "      <th>NDVI18</th>\n",
       "      <th>precipitation18</th>\n",
       "      <th>tmax18</th>\n",
       "      <th>tmin18</th>\n",
       "    </tr>\n",
       "    <tr>\n",
       "      <th>Date</th>\n",
       "      <th></th>\n",
       "      <th></th>\n",
       "      <th></th>\n",
       "      <th></th>\n",
       "      <th></th>\n",
       "    </tr>\n",
       "  </thead>\n",
       "  <tbody>\n",
       "    <tr>\n",
       "      <th>2001-01-30</th>\n",
       "      <td>209.25</td>\n",
       "      <td>0.356333</td>\n",
       "      <td>1.922475</td>\n",
       "      <td>0.998079</td>\n",
       "      <td>-8.752397</td>\n",
       "    </tr>\n",
       "    <tr>\n",
       "      <th>2001-01-31</th>\n",
       "      <td>209.00</td>\n",
       "      <td>0.355667</td>\n",
       "      <td>2.113111</td>\n",
       "      <td>0.769787</td>\n",
       "      <td>-9.093101</td>\n",
       "    </tr>\n",
       "    <tr>\n",
       "      <th>2001-02-01</th>\n",
       "      <td>211.00</td>\n",
       "      <td>0.355000</td>\n",
       "      <td>2.081987</td>\n",
       "      <td>0.499550</td>\n",
       "      <td>-9.434367</td>\n",
       "    </tr>\n",
       "    <tr>\n",
       "      <th>2001-02-02</th>\n",
       "      <td>213.00</td>\n",
       "      <td>0.354200</td>\n",
       "      <td>2.075079</td>\n",
       "      <td>0.391470</td>\n",
       "      <td>-9.658767</td>\n",
       "    </tr>\n",
       "    <tr>\n",
       "      <th>2001-02-05</th>\n",
       "      <td>212.00</td>\n",
       "      <td>0.351800</td>\n",
       "      <td>2.127651</td>\n",
       "      <td>0.360266</td>\n",
       "      <td>-9.979603</td>\n",
       "    </tr>\n",
       "  </tbody>\n",
       "</table>\n",
       "</div>"
      ],
      "text/plain": [
       "             Price    NDVI18  precipitation18    tmax18    tmin18\n",
       "Date                                                             \n",
       "2001-01-30  209.25  0.356333         1.922475  0.998079 -8.752397\n",
       "2001-01-31  209.00  0.355667         2.113111  0.769787 -9.093101\n",
       "2001-02-01  211.00  0.355000         2.081987  0.499550 -9.434367\n",
       "2001-02-02  213.00  0.354200         2.075079  0.391470 -9.658767\n",
       "2001-02-05  212.00  0.351800         2.127651  0.360266 -9.979603"
      ]
     },
     "execution_count": 37,
     "metadata": {},
     "output_type": "execute_result"
    }
   ],
   "source": [
    "df_pnptt.head()"
   ]
  },
  {
   "cell_type": "code",
   "execution_count": 38,
   "metadata": {},
   "outputs": [],
   "source": [
    "# Export as CSV file for further use in \"2. Machine Learning.ipynb\"\n",
    "df_pnptt.to_csv(path_or_buf='Data/Preprocessed_Data/AB_Separate_Model_2001_2018.csv')"
   ]
  },
  {
   "cell_type": "code",
   "execution_count": null,
   "metadata": {},
   "outputs": [],
   "source": []
  }
 ],
 "metadata": {
  "kernelspec": {
   "display_name": "Python 3",
   "language": "python",
   "name": "python3"
  },
  "language_info": {
   "codemirror_mode": {
    "name": "ipython",
    "version": 3
   },
   "file_extension": ".py",
   "mimetype": "text/x-python",
   "name": "python",
   "nbconvert_exporter": "python",
   "pygments_lexer": "ipython3",
   "version": "3.7.6"
  }
 },
 "nbformat": 4,
 "nbformat_minor": 2
}
